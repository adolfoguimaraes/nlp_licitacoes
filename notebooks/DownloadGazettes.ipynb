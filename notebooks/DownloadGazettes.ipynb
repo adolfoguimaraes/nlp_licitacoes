{
 "cells": [
  {
   "attachments": {},
   "cell_type": "markdown",
   "metadata": {},
   "source": [
    "# Download dos diários oficiais\n",
    "\n",
    "Nesse notebook estará os códigos para baixar os diários oficiais que serão utilizados para o trabalho. Os diários coletados serão armazenados na pasta `gazettes`. "
   ]
  },
  {
   "attachments": {},
   "cell_type": "markdown",
   "metadata": {},
   "source": [
    "## Imports Necessários"
   ]
  },
  {
   "cell_type": "code",
   "execution_count": 1,
   "metadata": {},
   "outputs": [],
   "source": [
    "# Código para poder usar os módulos implementados nesse repositório no notebook \n",
    "import sys, os\n",
    "path_module = os.path.abspath('../modules/')\n",
    "if path_module not in sys.path:\n",
    "    sys.path.append(path_module)"
   ]
  },
  {
   "cell_type": "code",
   "execution_count": 2,
   "metadata": {},
   "outputs": [],
   "source": [
    "# Imports para o projeto\n",
    "from utils.get_gazette import GetGazette"
   ]
  },
  {
   "attachments": {},
   "cell_type": "markdown",
   "metadata": {},
   "source": [
    "## Download do diário de Teste\n",
    "\n",
    "Para teste dos códigos vamos trabalhar com um diário apenas. Esse diário será fixado na data de **04/07/2023** e pode ser baixado pelo código a seguir."
   ]
  },
  {
   "cell_type": "code",
   "execution_count": 4,
   "metadata": {},
   "outputs": [],
   "source": [
    "OUTPUT_DIR = 'gazettes/'\n",
    "TERRITORY_ID = '2927408'\n",
    "PUBLISHED_SINCE='2023-09-01'\n",
    "PUBLISHED_UNTIL='2023-09-30'\n",
    "\n",
    "get_ = GetGazette(\n",
    "    TERRITORY_ID=TERRITORY_ID, \n",
    "    PUBLISHED_SINCE=PUBLISHED_SINCE, \n",
    "    PUBLISHED_UNTIL=PUBLISHED_UNTIL, \n",
    "    OUTPUT_DIR=OUTPUT_DIR)\n",
    "\n",
    "get_.downloadGazette()"
   ]
  }
 ],
 "metadata": {
  "kernelspec": {
   "display_name": "nlp_licitacoes",
   "language": "python",
   "name": "python3"
  },
  "language_info": {
   "codemirror_mode": {
    "name": "ipython",
    "version": 3
   },
   "file_extension": ".py",
   "mimetype": "text/x-python",
   "name": "python",
   "nbconvert_exporter": "python",
   "pygments_lexer": "ipython3",
   "version": "3.9.13"
  },
  "orig_nbformat": 4
 },
 "nbformat": 4,
 "nbformat_minor": 2
}
