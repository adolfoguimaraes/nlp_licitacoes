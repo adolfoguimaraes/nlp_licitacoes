{
 "cells": [
  {
   "cell_type": "markdown",
   "metadata": {},
   "source": [
    "# Análise dos Tópicos \n",
    "\n",
    "Esse notebook possui os códigos para a análise dos tópicos extraídos dos diários oficiais. "
   ]
  },
  {
   "cell_type": "markdown",
   "metadata": {},
   "source": [
    "## Imports Necessários"
   ]
  },
  {
   "cell_type": "code",
   "execution_count": 1,
   "metadata": {},
   "outputs": [],
   "source": [
    "# Código para poder usar os módulos implementados nesse repositório no notebook \n",
    "import sys, os\n",
    "path_module = os.path.abspath('../modules/')\n",
    "if path_module not in sys.path:\n",
    "    sys.path.append(path_module)"
   ]
  },
  {
   "cell_type": "code",
   "execution_count": 2,
   "metadata": {},
   "outputs": [],
   "source": [
    "# imports do projeto\n",
    "\n",
    "from utils.process_gazette import ProcessGazette\n",
    "from preprocess.pre_process_text import PreProcessText\n",
    "from nlp.extract_topicsLLM import ExtractTopicsLLM\n",
    "from nlp.ner import Ner\n",
    "from nlp.sentiment import Sentiment_analyze"
   ]
  },
  {
   "cell_type": "markdown",
   "metadata": {},
   "source": [
    "## Extração e análise dos tópicos do Diário Teste"
   ]
  },
  {
   "cell_type": "markdown",
   "metadata": {},
   "source": [
    "### teste de filtro"
   ]
  },
  {
   "cell_type": "code",
   "execution_count": 3,
   "metadata": {},
   "outputs": [],
   "source": [
    "pp = ProcessGazette(BASE_DIR=\"gazettes/\")\n",
    "txt_files = [f for f in os.listdir(\"gazettes/\") if f.endswith('.txt')]\n",
    "all_pages = []\n",
    "for txt_file in txt_files:\n",
    "    pages = pp.break_pages(txt_file, \"ANO [X|V|I]+ \", save_file=True)\n",
    "    all_pages.append(pages)"
   ]
  },
  {
   "cell_type": "code",
   "execution_count": 4,
   "metadata": {},
   "outputs": [],
   "source": [
    "#classificação\n",
    "main_prompt =\"\"\"Você é um assistente de classificação especializado em diários oficiais. Dado o texto a seguir de uma página de um diário oficial, classifique-o em uma das seguintes categorias:\n",
    "\n",
    "Licitações\n",
    "Contratos\n",
    "Leis\n",
    "Decretos\n",
    "Nomeações e Exonerações\n",
    "Atos Administrativos\n",
    "Publicações Judiciais\n",
    "Publicações de Empresas\n",
    "Editais Diversos\n",
    "Avisos e Comunicados de Interesse Público\n",
    "Publicações de Organismos Internacionais\n",
    "Matérias de Transparência\n",
    "Siga estas etapas:\n",
    "\n",
    "Leia o texto fornecido cuidadosamente.\n",
    "Classifique o texto em uma das categorias listadas.\n",
    "Apresente apenas a categoria de classificação como saída, sem qualquer outro texto ou explicação.\n",
    "Texto:\"\"\""
   ]
  },
  {
   "cell_type": "code",
   "execution_count": 5,
   "metadata": {},
   "outputs": [],
   "source": [
    "#resumo\n",
    "main_prompt2 =\"\"\"Você é um assistente de resumo especializado em diários oficiais. Sua tarefa é ler o texto fornecido de uma página de um diário oficial e fornecer um resumo conciso que capture os principais pontos e informações relevantes.\n",
    "\n",
    "Siga estas etapas:\n",
    "Leia o texto fornecido cuidadosamente.\n",
    "Identifique os principais pontos e informações relevantes.\n",
    "Escreva um resumo conciso que capture esses pontos principais.\n",
    "Texto:\"\"\""
   ]
  },
  {
   "cell_type": "code",
   "execution_count": 6,
   "metadata": {},
   "outputs": [],
   "source": [
    "#licitações\n",
    "main_prompt3=\"\"\"Você é um assistente especializado em análise de diários oficiais. Sua tarefa é extrair informações de licitações do texto fornecido. Para cada licitação, identifique a empresa, o valor e os objetivos. Apresente suas respostas em formato de dicionário Python, onde cada licitação é representada por um dicionário com as chaves \"Empresa\", \"Valor\" e \"Objetivos\".\n",
    "\n",
    "Siga estas etapas:\n",
    "1. Leia o texto fornecido cuidadosamente.\n",
    "2. Identifique cada licitação mencionada no texto.\n",
    "3. Para cada licitação, extraia as informações de \"Empresa\", \"Valor\" e \"Objetivos\".\n",
    "4. Apresente os resultados em um dicionário Python, onde cada licitação é representada por um dicionário com as chaves \"Empresa\", \"Valor\" e \"Objetivos\".\n",
    "\n",
    "Formato do dicionário:\n",
    "\n",
    "```python\n",
    "{\n",
    "    \"Licitação 1\": {\n",
    "        \"Empresa\": \"Nome da Empresa\",\n",
    "        \"Valor\": \"Valor da Licitação\",\n",
    "        \"Objetivos\": \"Objetivos da Licitação\"\n",
    "    },\n",
    "    \"Licitação 2\": {\n",
    "        \"Empresa\": \"Nome da Empresa\",\n",
    "        \"Valor\": \"Valor da Licitação\",\n",
    "        \"Objetivos\": \"Objetivos da Licitação\"\n",
    "    },\n",
    "    ...\n",
    "}\n",
    "```\n",
    "Apresente apenas o dicionário python como saída, sem qualquer outro texto ou explicação.\n",
    "Texto:\"\"\""
   ]
  },
  {
   "cell_type": "code",
   "execution_count": 7,
   "metadata": {},
   "outputs": [
    {
     "name": "stdout",
     "output_type": "stream",
     "text": [
      "page:0  Atos Administrativos\n",
      "page:1  Decretos\n",
      "page:2  Contratos\n",
      "page:3  Nomeações e Exonerações\n",
      "page:4  Licitações\n",
      "page:5   Publicações de Organismos Internacionais\n",
      "page:6   Decretos\n",
      "page:7  Sistema Estruturado  para a Educação  Infantil - Manutenção  Exclusivo  - 1.138.000,00 1.138.000,00 - -  720.000,00 720.000,00 - -  2.400.000,00 2.400.000,00 100,00  - 5.600.000,00 5.600.000,00 100,00  - 5.600.000,00 5.600.000,00 100,00  - 1.600.000,00 1.600.000,00 100,00  - 1.600.000,00 1.600.000,00 100,00  - 3.200.000,00 3.200.000,00 100,00  - 3.200.000,00 3.200.000,00 100,00  - 800.000,00 800.000,00 100,00  - 800.000,00 800.000,00 100,00  - 2.000.000,00 2.000.000,00 100,00  - 2.000.000,00 2.000.000,00 100,00  - 2.000.000,00 2.000.000,00 100,00  - 2.000.000,00 2.000\n",
      "page:8  Licitação.\n",
      "page:9  300.000,00 0,0  243 – Assistência à  Criança e ao Adolescente Projeto  Manutenção dos Centros de Convivência   - FCM Não Exclusivo 1.627.000,00 626.594,95  TOTAL GERAL 3.330.000,00 0,0\n",
      "page:10  Contratos\n",
      "page:11  Contratos\n",
      "page:12  Atos Administrativos\n",
      "page:13  Contratos\n",
      "page:14  Licitações\n",
      "page:15  Contratos\n",
      "page:16  Contratos\n",
      "page:17  Atos Administrativos\n",
      "page:18  Publicações de Organismos Internacionais\n",
      "page:19  Contratos\n"
     ]
    }
   ],
   "source": [
    "revistas_filtradas = {}\n",
    "for gazette in range(1,2):\n",
    "    revistas_filtradas[gazette] = {}\n",
    "    for page, text in all_pages[gazette].items():\n",
    "        import maritalk\n",
    "        model = maritalk.MariTalk(\n",
    "        key=\"104147566582134244375$db094baa6042418d\",\n",
    "        model=\"sabia-2-small\"  #modelos sabia-2-medium e sabia-2-small\n",
    "        )\n",
    "        prompt = main_prompt + str(text)\n",
    "        response  = model.generate(prompt)\n",
    "        answer = response[\"answer\"]\n",
    "        print(f\"page:{page} {answer}\")\n",
    "        #if answer.strip() == \"Licitações\":\n",
    "        revistas_filtradas[gazette][page] = {'text': text}\n",
    "        revistas_filtradas[gazette][page]['classification'] = answer"
   ]
  },
  {
   "cell_type": "code",
   "execution_count": 9,
   "metadata": {},
   "outputs": [
    {
     "name": "stdout",
     "output_type": "stream",
     "text": [
      " ```python\n",
      "{\n",
      "    \"Licitação 1\": {\n",
      "        \"Empresa\": \"MEDLEVENSOHN COMÉRCIO E REP. DE PRODUTOS HOSP. LTDA\",\n",
      "        \"Valor\": \"R$ 4.750.000,00\",\n",
      "        \"Objetivos\": \"Aquisição de kit para laboratório teste rápido IGM/IGG para coronavirus\"\n",
      "    },\n",
      "    \"Licitação 2\": {\n",
      "        \"Empresa\": \"VIGILANTE DA GLICOSE COM DE PROD PARA DIABETICOS\",\n",
      "        \"Valor\": \"R$ 50.960,00\",\n",
      "        \"Objetivos\": \"REGISTRO DE PREÇOS PARA AQUISIÇÃO DE MATERIAL DE PENSO\"\n",
      "    },\n",
      "    \"Licitação 3\": {\n",
      "        \"Empresa\": \"KOLPLAST CI S.A.\",\n",
      "        \"Valor\": \"R$ 441.120,00\",\n",
      "        \"Objetivos\": \"REGISTRO DE PREÇOS PARA AQUISIÇÃO DE MATERIAL DE PENSO\"\n",
      "    },\n",
      "    \"Licitação 4\": {\n",
      "        \"Empresa\": \"CORDEIRO CARAPIA COMERCIO DE PRODUTOS HOSPITALARES\",\n",
      "        \"Valor\": \"R$ 61.470,00\",\n",
      "        \"Objetivos\": \"REGISTRO DE PREÇOS PARA AQUISIÇÃO DE MATERIAL DE PENSO\"\n",
      "    },\n",
      "    \"Licitação 5\": {\n",
      "        \"Empresa\": \"CREMER S.A.\",\n",
      "        \"Valor\": \"R$ 287.325,00\",\n",
      "        \"Objetivos\": \"REGISTRO DE PREÇOS PARA AQUISIÇÃO DE MATERIAL DE PENSO\"\n",
      "    },\n",
      "    \"Licitação 6\": {\n",
      "        \"Empresa\": \"PMH PRODUTOS MÉDICOS HOSPITALARE\n"
     ]
    }
   ],
   "source": [
    "import maritalk\n",
    "model = maritalk.MariTalk(\n",
    "key=\"104147566582134244375$db094baa6042418d\",\n",
    "model=\"sabia-2-small\"  #modelos sabia-2-medium e sabia-2-small\n",
    ")\n",
    "prompt = main_prompt3 + revistas_filtradas[1][14]['text']\n",
    "response  = model.generate(prompt)\n",
    "answer = response[\"answer\"]\n",
    "print(answer)"
   ]
  },
  {
   "cell_type": "code",
   "execution_count": 10,
   "metadata": {},
   "outputs": [
    {
     "name": "stdout",
     "output_type": "stream",
     "text": [
      " Resumo:\n",
      "\n",
      "1. Dispensa de Licitação N° 050/2020 para aquisição de kits de teste rápido para coronavírus (IGM/IGG).\n",
      "2. Contratada: Medlevensohn Comércio e Representações de Produtos Hospitalares Ltda.\n",
      "3. CNPJ da Contratada: 05.343.029/0001-90.\n",
      "4. Valor Global do Contrato: R$ 4.750.000,00.\n",
      "5. Ato de Dispensa de Licitação assinado em 26/03/2020 pela Coordenadora Paloma Mendes Mendonça.\n",
      "6. Amparo Legal: Artigo 24, Inciso IV da Lei Federal N° 8.666/93 e Artigo 4° da Lei Federal N° 13.979/2020.\n",
      "7. Dotação Orçamentária: Projeto Atividade 10.302.0002.232900, 10.301.0016.249300 e 10.302.0016.249400; Elemento de Despesa 33.90.30; Fonte de Recurso: 014.\n",
      "8. Prazo de Entrega: Imediato.\n",
      "9. Resultado de Licitação: Pregão Eletrônico - SMS N° 027/2020 para aquisição de material de penso.\n",
      "10. Empresas contempladas e valores por lote: Vigilante da Glicose Comércio de Produtos para Diabéticos, Kolplast CI S.A., Cordeiro Carapiá Comércio de Produtos Hospitalares, Cremer S.A. e Cremmer S.A.\n",
      "11. Valor total do registro de preços: R$ 967.625,00.\n",
      "12.\n"
     ]
    }
   ],
   "source": [
    "import maritalk\n",
    "model = maritalk.MariTalk(\n",
    "key=\"104147566582134244375$db094baa6042418d\",\n",
    "model=\"sabia-2-small\"  #modelos sabia-2-medium e sabia-2-small\n",
    ")\n",
    "prompt = main_prompt2 + revistas_filtradas[1][14]['text']\n",
    "response  = model.generate(prompt)\n",
    "answer = response[\"answer\"]\n",
    "print(answer)"
   ]
  },
  {
   "cell_type": "code",
   "execution_count": 11,
   "metadata": {},
   "outputs": [
    {
     "name": "stderr",
     "output_type": "stream",
     "text": [
      "c:\\Users\\erick\\AppData\\Local\\Programs\\Python\\Python312\\Lib\\site-packages\\tqdm\\auto.py:21: TqdmWarning: IProgress not found. Please update jupyter and ipywidgets. See https://ipywidgets.readthedocs.io/en/stable/user_install.html\n",
      "  from .autonotebook import tqdm as notebook_tqdm\n"
     ]
    }
   ],
   "source": [
    "extractor = ExtractTopicsLLM()\n",
    "ner = Ner()\n",
    "topics = extractor.extract_topics(revistas_filtradas[1][14]['text'])\n",
    "Ner_mari = ner.extract_entities_maritalk(revistas_filtradas[1][14]['text'])"
   ]
  },
  {
   "cell_type": "code",
   "execution_count": 12,
   "metadata": {},
   "outputs": [
    {
     "name": "stdout",
     "output_type": "stream",
     "text": [
      "  ```python\n",
      "    {\n",
      "        \"Licitação\": {\n",
      "            \"Description\": \"Processos de contratação e aquisição de bens e serviços pelo governo.\",\n",
      "            \"Frequency\": 3\n",
      "        },\n",
      "        \"Dispensa de Licitação\": {\n",
      "            \"Description\": \"Procedimento para contratação direta sem licitação seguindo condições específicas.\",\n",
      "            \"Frequency\": 2\n",
      "        },\n",
      "        \"Valor Global\": {\n",
      "            \"Description\": \"Valor total do contrato resultante da dispensa de licitação.\",\n",
      "            \"Frequency\": 2\n",
      "        },\n",
      "        \"Empresa\": {\n",
      "            \"Description\": \"Nome da empresa contratada por dispensa de licitação.\",\n",
      "            \"Frequency\": 2\n",
      "        },\n",
      "        \"CNPJ\": {\n",
      "            \"Description\": \"Número de identificação da empresa contratada.\",\n",
      "            \"Frequency\": 2\n",
      "        },\n",
      "        \"Artigo\": {\n",
      "            \"Description\": \"Referência legal para a dispensa de licitação.\",\n",
      "            \"Frequency\": 1\n",
      "        },\n",
      "        \"Resultado de Licitação\": {\n",
      "            \"Description\": \"Resultado do processo licitatório, incluindo vencedores e valores.\",\n",
      "            \"Frequency\": 1\n",
      "        },\n",
      "        \"Pregão Eletrônico\": {\n",
      "            \"Description\": \"Modalidade de licitação para aquisição de bens e serviços.\",\n",
      "            \"Frequency\": 1\n",
      "        },\n",
      "        \"Registro de Preços\": {\n",
      "            \"Description\": \"Sistema de cotação para futuras compras dentro de um período.\",\n",
      "            \"Frequency\": 1\n",
      "        },\n",
      "        \"Lote\": {\n",
      "            \"Description\": \"Dividir em partes para facilitar a licitação ou o registro de preços.\",\n",
      "            \"Frequency\": 1\n",
      "        },\n",
      "        \"Incorreção\": {\n",
      "            \"Description\": \"Erro ou falha no processo de dispensa de licitação publicado.\",\n",
      "            \"Frequency\": 1\n",
      "        },\n",
      "        \"Retificação\": {\n",
      "            \"Description\":\n"
     ]
    }
   ],
   "source": [
    "print(topics)"
   ]
  },
  {
   "cell_type": "code",
   "execution_count": 13,
   "metadata": {},
   "outputs": [
    {
     "name": "stdout",
     "output_type": "stream",
     "text": [
      "  ```python\n",
      "{\n",
      "    \"Person\": [\"Paloma Mendes Mendonça\", \"José Egídio de Santana\"],\n",
      "    \"Organization\": [\"SMS - Secretaria Municipal da Saúde\", \"COPEL - Comissão Setorial Permanente de Licitação\", \"PMH Produtos Médicos Hospitalares LTDA\", \"Guarda Civil Municipal - GCM\"],\n",
      "    \"Location\": [\"Salvador\", \"Salvador\", \"Salvador\", \"Salvador\"],\n",
      "    \"Date\": [\"30/03/2020\", \"27/03/2020\", \"26/03/2020\", \"26/03/2020\"],\n",
      "    \"Money\": [\"R$ 4.750.000,00\", \"R$ 967.625,00\", \"R$ 4.925.000,00\", \"R$ 1.000 (mil) mililitros\"]\n",
      "}\n",
      "```\n"
     ]
    }
   ],
   "source": [
    "print(Ner_mari)"
   ]
  },
  {
   "cell_type": "code",
   "execution_count": 14,
   "metadata": {},
   "outputs": [
    {
     "ename": "KeyError",
     "evalue": "0",
     "output_type": "error",
     "traceback": [
      "\u001b[1;31m---------------------------------------------------------------------------\u001b[0m",
      "\u001b[1;31mKeyError\u001b[0m                                  Traceback (most recent call last)",
      "Cell \u001b[1;32mIn[14], line 3\u001b[0m\n\u001b[0;32m      1\u001b[0m x \u001b[38;5;241m=\u001b[39m Sentiment_analyze(model\u001b[38;5;241m=\u001b[39m\u001b[38;5;124m'\u001b[39m\u001b[38;5;124mspacy\u001b[39m\u001b[38;5;124m'\u001b[39m)\n\u001b[0;32m      2\u001b[0m y \u001b[38;5;241m=\u001b[39m Sentiment_analyze(model\u001b[38;5;241m=\u001b[39m\u001b[38;5;124m'\u001b[39m\u001b[38;5;124mmaritalk\u001b[39m\u001b[38;5;124m'\u001b[39m)\n\u001b[1;32m----> 3\u001b[0m spacy \u001b[38;5;241m=\u001b[39m x\u001b[38;5;241m.\u001b[39msentiment_analyze_spacy(\u001b[43mrevistas_filtradas\u001b[49m\u001b[43m[\u001b[49m\u001b[38;5;241;43m0\u001b[39;49m\u001b[43m]\u001b[49m[\u001b[38;5;241m2\u001b[39m][\u001b[38;5;124m'\u001b[39m\u001b[38;5;124mtext\u001b[39m\u001b[38;5;124m'\u001b[39m])\n\u001b[0;32m      4\u001b[0m mari \u001b[38;5;241m=\u001b[39m y\u001b[38;5;241m.\u001b[39msentiment_analyze_maritalk(revistas_filtradas[\u001b[38;5;241m0\u001b[39m][\u001b[38;5;241m2\u001b[39m][\u001b[38;5;124m'\u001b[39m\u001b[38;5;124mtext\u001b[39m\u001b[38;5;124m'\u001b[39m])\n",
      "\u001b[1;31mKeyError\u001b[0m: 0"
     ]
    }
   ],
   "source": [
    "x = Sentiment_analyze(model='spacy')\n",
    "y = Sentiment_analyze(model='maritalk')\n",
    "spacy = x.sentiment_analyze_spacy(revistas_filtradas[0][2]['text'])\n",
    "mari = y.sentiment_analyze_maritalk(revistas_filtradas[0][2]['text'])"
   ]
  },
  {
   "cell_type": "code",
   "execution_count": null,
   "metadata": {},
   "outputs": [
    {
     "name": "stdout",
     "output_type": "stream",
     "text": [
      "positive\n",
      "  Positivo\n"
     ]
    }
   ],
   "source": [
    "print(spacy)\n",
    "print(mari)"
   ]
  },
  {
   "cell_type": "markdown",
   "metadata": {},
   "source": [
    "### Extraindo de multiplas gazetas"
   ]
  },
  {
   "cell_type": "code",
   "execution_count": 4,
   "metadata": {},
   "outputs": [],
   "source": [
    "pp = ProcessGazette(BASE_DIR=\"gazettes/\")\n",
    "txt_files = [f for f in os.listdir(\"gazettes/\") if f.endswith('.txt')]\n",
    "all_pages = []\n",
    "for txt_file in txt_files:\n",
    "    pages = pp.break_pages(txt_file, \"ANO [X|V|I]+ \", save_file=True)\n",
    "    all_pages.append(pages)"
   ]
  },
  {
   "cell_type": "code",
   "execution_count": 5,
   "metadata": {},
   "outputs": [],
   "source": [
    "cont = 1 #len(revistas_filtradas)"
   ]
  },
  {
   "cell_type": "code",
   "execution_count": 6,
   "metadata": {},
   "outputs": [
    {
     "name": "stderr",
     "output_type": "stream",
     "text": [
      "c:\\Users\\erick\\AppData\\Local\\Programs\\Python\\Python312\\Lib\\site-packages\\tqdm\\auto.py:21: TqdmWarning: IProgress not found. Please update jupyter and ipywidgets. See https://ipywidgets.readthedocs.io/en/stable/user_install.html\n",
      "  from .autonotebook import tqdm as notebook_tqdm\n"
     ]
    }
   ],
   "source": [
    "all_topics = {}\n",
    "topics_ = {}\n",
    "ppt = PreProcessText(\"pt_core_news_lg\")\n",
    "for gazette in range(0,cont):\n",
    "    all_topics[gazette] = {}\n",
    "    for page, text in all_pages[gazette].items():\n",
    "        extractor = ExtractTopicsLLM()\n",
    "        topics_[page] = {'text': text, 'topics': []}\n",
    "        tokens_ = ppt.process_text(topics_[page]['text'])\n",
    "        if len(tokens_) > 5 and page:\n",
    "            topics_[page]['tokens'] = tokens_\n",
    "            topics_[page]['topics'] = extractor.extract_topics(topics_[page]['text'])\n",
    "            \n",
    "            all_topics[gazette][page] = topics_[page]\n"
   ]
  },
  {
   "cell_type": "markdown",
   "metadata": {},
   "source": [
    "### run"
   ]
  },
  {
   "cell_type": "code",
   "execution_count": 7,
   "metadata": {},
   "outputs": [],
   "source": [
    "gazeta = 0\n",
    "pg = 4"
   ]
  },
  {
   "cell_type": "code",
   "execution_count": 8,
   "metadata": {},
   "outputs": [
    {
     "name": "stdout",
     "output_type": "stream",
     "text": [
      "[(Capítulo, 'MISC'), (Município de Salvador, 'LOC'), (Decreto, 'MISC'), (Lei, 'MISC'), (CAPÍTULO V DO COMITÊ DE INTEGRAÇÃO INSTITUCIONAL  Art. 15, 'MISC'), (Comitê de Integração Institucional, 'ORG'), (Município de Salvador, 'LOC'), (Covid-19, 'LOC'), (Comitê de Integração Institucional, 'ORG'), (I - Prefeito Municipal, 'MISC'), (II - Vice-Prefeito, 'MISC'), (Casa Civil, 'PER'), (IV - Chefe de Gabinete do Prefeito, 'MISC'), (V - Procurador-Geral do Município, 'MISC'), (Secretário Municipal da Saúde, 'PER'), (Secretário Municipal da Fazenda, 'LOC'), (Secretário Municipal de Promoção Social e Combate à Pobreza, 'PER'), (Secretário Municipal de Educação, 'PER'), (Secretário Municipal de Desenvolvimento e Urbanismo, 'LOC'), (XIV- Secretário Municipal de Ordem Pública, 'PER'), (Controlador-Geral do Município, 'LOC'), (Comitê de Integração Institucional, 'ORG'), (Presidente, 'MISC'), (Secretários Municipais, 'PER'), (Administração Indireta Municipal, 'ORG'), (Prefeito, 'ORG'), (Vice-presidente da Câmara Municipal de Salvador, 'ORG'), (Estado da Bahia, 'LOC'), (Vereadores e Conselheiros do TCM, 'ORG'), (Presidente, 'MISC'), (V - Parlamentares, 'MISC'), (Ministério Público, 'LOC'), (Poder Judiciário, 'MISC'), (Defensoria Pública, 'LOC'), (Ordem, 'ORG'), (Advogados do Brasil, 'ORG'), (Bahia, 'LOC'), (Comitê, 'ORG'), (Diretores ou Coordenadores, 'MISC'), (Comitê, 'ORG'), (Comitê de Integração Institucional, 'ORG'), (Centro de Coordenação   de Operações, 'LOC'), (Prefeitura   Municipal, 'LOC'), (Covid-19, 'ORG'), (Comitê de Integração   Institucional, 'ORG'), (Covid-19, 'PER'), (Presidente do Comitê, 'ORG'), (Covid-19, 'LOC'), (Comitê de Integração   Institucional, 'ORG'), (Centro de Coordenação de Operações do Comitê, 'LOC'), (Secretário de Promoção Social e Combate à Pobreza, 'ORG'), (Coordenador, 'MISC'), (II - Vice-Prefeito, 'MISC'), (Secretário Municipal de Saúde, 'PER'), (IV -, 'MISC'), (VII - Coordenador, 'MISC'), (Serviço Médico de Atendimento de Urgência, 'ORG'), (Civil Municipal, 'LOC'), (Diretor de Fiscalização da Secretaria Municipal de Desenvolvimento e Urbanismo, 'LOC'), (X - Coordenador de Apoio as Ações de Vigilância, 'MISC'), (Secretaria Municipal de Saúde, 'LOC'), (Centro, 'LOC'), (Comitê de Integração Institucional, 'ORG'), (Centro de Coordenação de Operações, 'LOC'), (Comitê de Integração Institucional, 'ORG'), (Centro de Coordenação de Operações, 'LOC'), (Administração Direta, 'ORG'), (Indireta do Município, 'LOC'), (Comitê, 'ORG'), (Centro, 'LOC'), (Presidente, 'MISC'), (Coordenador, 'MISC'), (Comitê de Integração Institucional, 'ORG'), (Centro de Coordenação   de Operações, 'LOC'), (CAPÍTULO VI  DISPOSIÇÕES FINAIS, 'MISC'), (Lei correrão, 'MISC'), (Poder Executivo, 'ORG'), (Plano Plurianual, 'LOC'), (DIÁRIO OFICIAL DO SALVADOR-BAHIA, 'MISC')]\n"
     ]
    }
   ],
   "source": [
    "print(all_topics[gazeta][pg]['Ner_text'])"
   ]
  },
  {
   "cell_type": "code",
   "execution_count": 12,
   "metadata": {},
   "outputs": [
    {
     "name": "stdout",
     "output_type": "stream",
     "text": [
      "  ```python\n",
      "{\n",
      "    \"Organization\": [\"Prefeito Municipal\", \"Vice-Prefeito\", \"Chefe da Casa Civil\", \"Chefe de Gabinete do Prefeito\", \"Procurador-Geral do Município\", \"Secretário Municipal da Saúde\", \"Secretário Municipal da Fazenda\", \"Secretário Municipal de Promoção Social e Combate à Pobreza\", \"Secretário Municipal de Educação\", \"Secretário Municipal de Infraestrutura\", \"Secretário Municipal de Gestão\", \"Secretário Municipal de Mobilidade\", \"Secretário Municipal de Desenvolvimento e Urbanismo\", \"Secretário Municipal de Ordem Pública\", \"Secretário Municipal de Comunicação\", \"Secretário-Geral de Articulação Comunitária e Prefeituras-Bairro\", \"Controlador-Geral do Município\"],\n",
      "    \"Location\": [\"Salvador\"],\n",
      "    \"Date\": [\"19 de março de 2020\", \"3 (três) meses\"]\n",
      "}\n",
      "```\n"
     ]
    }
   ],
   "source": [
    "print(all_topics[gazeta][pg]['Ner_mari_txt'])"
   ]
  },
  {
   "cell_type": "code",
   "execution_count": 10,
   "metadata": {},
   "outputs": [
    {
     "name": "stdout",
     "output_type": "stream",
     "text": [
      "[]\n"
     ]
    }
   ],
   "source": [
    "print(all_topics[gazeta][pg]['topics'])"
   ]
  }
 ],
 "metadata": {
  "kernelspec": {
   "display_name": "Python 3",
   "language": "python",
   "name": "python3"
  },
  "language_info": {
   "codemirror_mode": {
    "name": "ipython",
    "version": 3
   },
   "file_extension": ".py",
   "mimetype": "text/x-python",
   "name": "python",
   "nbconvert_exporter": "python",
   "pygments_lexer": "ipython3",
   "version": "3.12.2"
  }
 },
 "nbformat": 4,
 "nbformat_minor": 2
}
