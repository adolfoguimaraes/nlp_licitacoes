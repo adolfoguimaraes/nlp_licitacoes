{
 "cells": [
  {
   "cell_type": "markdown",
   "metadata": {},
   "source": [
    "# Análise dos Tópicos \n",
    "\n",
    "Esse notebook possui os códigos para a análise dos tópicos extraídos dos diários oficiais. "
   ]
  },
  {
   "cell_type": "markdown",
   "metadata": {},
   "source": [
    "## Imports Necessários"
   ]
  },
  {
   "cell_type": "code",
   "execution_count": 1,
   "metadata": {},
   "outputs": [],
   "source": [
    "# Código para poder usar os módulos implementados nesse repositório no notebook \n",
    "import sys, os\n",
    "path_module = os.path.abspath('../modules/')\n",
    "if path_module not in sys.path:\n",
    "    sys.path.append(path_module)"
   ]
  },
  {
   "cell_type": "code",
   "execution_count": 2,
   "metadata": {},
   "outputs": [],
   "source": [
    "# imports do projeto\n",
    "\n",
    "from utils.process_gazette import ProcessGazette\n",
    "from preprocess.pre_process_text import PreProcessText\n",
    "from nlp.extract_topics import ExtractTopics\n",
    "from nlp.ner import Ner"
   ]
  },
  {
   "cell_type": "markdown",
   "metadata": {},
   "source": [
    "## Extração e análise dos tópicos do Diário Teste"
   ]
  },
  {
   "cell_type": "code",
   "execution_count": 24,
   "metadata": {},
   "outputs": [],
   "source": [
    "pp = ProcessGazette(BASE_DIR=\"gazettes/\")\n",
    "txt_files = [f for f in os.listdir(\"gazettes/\") if f.endswith('.txt')]\n",
    "all_pages = []\n",
    "all_pages_name = []\n",
    "for txt_file in txt_files:\n",
    "    pages = pp.break_pages(txt_file, \"ANO [X|V|I]+ \", save_file=False)\n",
    "    all_pages.append(pages)\n",
    "    all_pages_name.append(txt_file)"
   ]
  },
  {
   "cell_type": "code",
   "execution_count": 25,
   "metadata": {},
   "outputs": [],
   "source": [
    "revistas_filtradas = {}\n",
    "topics_ = {}\n",
    "ppt = PreProcessText(\"pt_core_news_lg\")\n",
    "\n",
    "for gazette in range(len(all_pages)):\n",
    "    revistas_filtradas[gazette] = {}\n",
    "\n",
    "    for page, text in all_pages[gazette].items():\n",
    "        topics_[page] = {'text': text}\n",
    "        tokens_ = ppt.process_text(topics_[page]['text'])\n",
    "        for token in tokens_:\n",
    "            if len(tokens_) > 5 and page and token in ['aquisicao', 'contratacao', 'emergencial', 'dispensa', 'licitacao','compra','comprar','licitatorio', 'contrato']:\n",
    "                revistas_filtradas[gazette][page] = topics_[page]\n",
    "                break"
   ]
  },
  {
   "cell_type": "code",
   "execution_count": 26,
   "metadata": {},
   "outputs": [],
   "source": [
    "for i in range(0,len(revistas_filtradas)):\n",
    "    revistas_filtradas[i] = list(revistas_filtradas[i].keys())"
   ]
  },
  {
   "cell_type": "markdown",
   "metadata": {},
   "source": [
    "### resultado da filtragem."
   ]
  },
  {
   "cell_type": "markdown",
   "metadata": {},
   "source": [
    "### Extraindo de multiplas gazetas"
   ]
  },
  {
   "cell_type": "code",
   "execution_count": 3,
   "metadata": {},
   "outputs": [],
   "source": [
    "pp = ProcessGazette(BASE_DIR=\"gazettes/\")\n",
    "txt_files = [f for f in os.listdir(\"gazettes/\") if f.endswith('.txt')]\n",
    "all_pages = []\n",
    "for txt_file in txt_files:\n",
    "    pages = pp.break_pages(txt_file, \"ANO [X|V|I]+ \", save_file=True)\n",
    "    all_pages.append(pages)"
   ]
  },
  {
   "cell_type": "code",
   "execution_count": 4,
   "metadata": {},
   "outputs": [],
   "source": [
    "cont = 1 #len(revistas_filtradas)"
   ]
  },
  {
   "cell_type": "code",
   "execution_count": 27,
   "metadata": {},
   "outputs": [],
   "source": [
    "all_topics = {}\n",
    "topics_ = {}\n",
    "ppt = PreProcessText(\"pt_core_news_lg\")\n",
    "for gazette in range(0,cont):\n",
    "    all_topics[gazette] = {}\n",
    "    for page, text in all_pages[gazette].items():\n",
    "        \n",
    "        extractor = ExtractTopics(model = 'default')\n",
    "        #extractorGpt = ExtractTopics(model = 'gpt')\n",
    "        extractorZeroshot = ExtractTopics(model = 'zeroshot')\n",
    "        extractorMaritalk = ExtractTopics(model = 'maritalk')\n",
    "        ner = Ner()\n",
    "        topics_[page] = {'text': text, 'topics': []}\n",
    "        tokens_ = ppt.process_text(topics_[page]['text'])\n",
    "        if len(tokens_) > 5 and page:\n",
    "            topics_[page]['tokens'] = tokens_\n",
    "            topics_[page]['topics'], topics_[page]['topics_info'] = extractor.extract_topics(topics_[page]['tokens'])\n",
    "            #topics_[page]['topicsGpt'], topics_[page]['topics_infoGpt'] = extractorGpt.extract_topics(topics_[page]['tokens'])\n",
    "            topics_[page]['topicsZeroshot'], topics_[page]['topics_infoZeroshot'] = extractorZeroshot.extract_topics(topics_[page]['tokens'])\n",
    "            topics_[page]['topicsMaritalk'], topics_[page]['topics_infoMaritalk'] = extractorMaritalk.extract_topics(topics_[page]['tokens'])\n",
    "            \n",
    "            topics_[page]['Ner'] = ner.extract_entities_tokens(topics_[page]['tokens'])\n",
    "            topics_[page]['Ner_text'] = ner.extract_entities_text(topics_[page]['text'])\n",
    "            #topics_[page]['Ner_mari_txt'] = ner.extract_entities_maritalk(topics_[page]['text'])\n",
    "            #topics_[page]['Ner_mari'] = ner.extract_entities_maritalk(topics_[page]['tokens'])\n",
    "            topics_[page]['similarity'] = extractor.find_topics('Licitação')\n",
    "            all_topics[gazette][page] = topics_[page]\n"
   ]
  },
  {
   "cell_type": "markdown",
   "metadata": {},
   "source": [
    "### run"
   ]
  },
  {
   "cell_type": "code",
   "execution_count": 28,
   "metadata": {},
   "outputs": [],
   "source": [
    "gazeta = 0\n",
    "pg = 4"
   ]
  },
  {
   "cell_type": "code",
   "execution_count": 15,
   "metadata": {},
   "outputs": [
    {
     "name": "stdout",
     "output_type": "stream",
     "text": [
      "| N º 7.6114 Art. 13. As ações previstas neste Capítulo têm caráter temporário e excepcional, devendo perdurar durante o \n",
      "período da pandemia. Parágrafo único. Fica autorizada a prorrogação de ofício do termo de colaboração ou fomento, acordos de cooperação, \n",
      "termos de parceria, contratos de repasse, contratos de gestão, convênios e demais ajustes similares com vencimento a partir de 19 \n",
      "de março de 2020, data de decretação do estado de emergência no Município de Salvador, pelo prazo de duração da \n",
      "emergência até 3 (três) meses após a decretação do fim da emergência, nas mesmas condições avençadas, devendo ser observados os \n",
      "demais aspectos procedimentais da legislação pertinente ao ajuste prorrogado. Art. 14. Fica autorizado o estabelecimento, mediante Decreto, de regras excepcionais \n",
      "em relação à prestação de contas quanto aos ajustes que sofram as modificações previstas no art. 10 desta Lei, desde \n",
      "que justificadas ante o cenário de emergência e que estejam de acordo com a legislação vigente. CAPÍTULO V DO COMITÊ \n",
      "DE INTEGRAÇÃO INSTITUCIONAL Art. 15. Fica reconhecida a instituição do Comitê de Integração Institucional, que tem por finalidade centralizar a \n",
      "tomada de decisões, integrar e alinhar as ações governamentais de enfrentamento, no âmbito do Município de Salvador, dos problemas decorrentes \n",
      "da pandemia do coronavírus, com vistas a prevenir, dar assistência à população e minimizar os impactos resultantes da situação de \n",
      "emergência e do estado de calamidade pública decretados em função do Covid-19; bem como supervisionar e monitorar os resultados alcançados. \n",
      "Art. 16. O Comitê de Integração Institucional é composto por: I - Prefeito Municipal, que o presidirá; II - Vice-Prefeito; \n",
      "III - Chefe da Casa Civil; IV - Chefe de Gabinete do Prefeito; V - Procurador-Geral do Município; VI - \n",
      "Secretário Municipal da Saúde; VII - Secretário Municipal da Fazenda; VIII - Secretário Municipal de Promoção Social e Combate à \n",
      "Pobreza; IX - Secretário Municipal de Educação; X - Secretário Municipal de Infraestrutura; XI - Secretário Municipal de Gestão; XII \n",
      "- Secretário Municipal de Mobilidade; XIII - Secretário Municipal de Desenvolvimento e Urbanismo; XIV- Secretário Municipal de Ordem Pública; XV \n",
      "- Secretário Municipal de Comunicação; XVI - Secretário-Geral de Articulação Comunitária e Prefeituras-Bairro; XVII - Controlador-Geral do Município. § 1º \n",
      "A depender das circunstâncias concretas e de acordo com o tema a ser discutido, poderão ser convidados para as reuniões \n",
      "do Comitê de Integração Institucional, pelo seu Presidente, com direito a voz, especialmente: I - outros Secretários Municipais e dirigentes \n",
      "da Administração Indireta Municipal indicados pelo Prefeito; II - Presidente e Vice-presidente da Câmara Municipal de Salvador; III - Presidente \n",
      "do Tribunal de Contas dos Município-TCM do Estado da Bahia; IV - outros Vereadores e Conselheiros do TCM, ambos designados \n",
      "pelo seu respectivo Presidente; V - Parlamentares estaduais e federais; VI - membros do Ministério Público, do Poder Judiciário, da \n",
      "Defensoria Pública e da Ordem dos Advogados do Brasil - seção Bahia; VII - especialistas, profissionais reconhecidos e representantes de \n",
      "entidades da iniciativa privada; VIII - quaisquer outras autoridades públicas. § 2º Os membros do Comitê poderão se fazer representar \n",
      "nas reuniões pelo seu substituto imediato ou por Diretores ou Coordenadores de unidades integrantes das respectivas pastas. § 3º O \n",
      "Comitê poderá requisitar de órgãos e entidades públicas as informações e estudos que se fizerem necessários para auxiliar o exercício \n",
      "das atividades que atendam a finalidade de sua instituição. Art. 17. O Comitê de Integração Institucional contará com o apoio \n",
      "do Centro de Coordenação de Operações, com o objetivo, dentre outros, de: I - coordenar e acompanhar de perto a \n",
      "efetivação das providências a cargo da Prefeitura Municipal no enfrentamento do Covid-19; II - avaliar a conformidade das operações às \n",
      "diretrizes do Comitê de Integração Institucional; III - articular, com entes públicos e privados, ações adequadas e avaliar seus respectivos \n",
      "impactos; IV - monitorar outras ações adotadas pelos atores públicos e privados em relação ao Covid-19; V - repassar informações \n",
      "atualizadas ao Presidente do Comitê sobre os desdobramentos das situações geradas pelo Covid-19 e pelas ações de todas as esferas \n",
      "de governo relacionadas; VI - exercer outras atribuições que lhe forem cometidas pelo Comitê de Integração Institucional. Art. 18. O \n",
      "Centro de Coordenação de Operações do Comitê é composto por: I - Secretário de Promoção Social e Combate à Pobreza, \n",
      "que será o Coordenador; II - Vice-Prefeito; III - Secretário Municipal de Saúde; IV - Chefe de Gabinete do Prefeito; \n",
      "V - Secretário Municipal de Infraestrutura; VI - Secretário-Geral de Articulação Comunitária e Prefeituras-Bairro; VII - Coordenador do Serviço Médico \n",
      "de Atendimento de Urgência; VIII - Inspetor Geral da Guarda Civil Municipal; IX - Diretor de Fiscalização da Secretaria Municipal \n",
      "de Desenvolvimento e Urbanismo; X - Coordenador de Apoio as Ações de Vigilância, da Secretaria Municipal de Saúde. § 1º \n",
      "O Coordenador do Centro de Coordenação de Operações poderá convidar outros agentes públicos e representantes de entidades privadas a participar \n",
      "de suas atividades, conforme a necessidade e para o alcance dos objetivos do art. 17. § 2º Cada membro do \n",
      "Centro indicará um suplente, para que possa substituí-lo em suas ausências e impedimentos. § 3º Poderá o presidente do Comitê \n",
      "de Integração Institucional, diante da dinâmica das ações e da necessidade premente, substituir ou indicar, a qualquer tempo, outros membros \n",
      "para compor o Centro de Coordenação de Operações, mediante decreto. Art. 19. O Comitê de Integração Institucional e o Centro \n",
      "de Coordenação de Operações poderão instituir grupos de trabalho temporários, com o objetivo de auxiliar no cumprimento de suas atribuições \n",
      "e requisitar instalações e equipamentos municipais, além de servidores de quaisquer órgãos da Administração Direta e Indireta do Município para \n",
      "o apoio e assessoramento. Art. 20. O Comitê e o Centro se reunirão sempre que convocados, respectivamente, pelo seu Presidente \n",
      "e Coordenador, devendo acontecer, preferencialmente, por meio de ferramenta eletrônica de videoconferência ou, se necessário, em encontros presenciais, a critério \n",
      "do seu correspondente Presidente ou Coordenador. Art. 21. A participação no Comitê de Integração Institucional, no Centro de Coordenação de \n",
      "Operações e nos grupos de trabalho será considerada prestação de serviço público relevante, não remunerada. CAPÍTULO VI DISPOSIÇÕES FINAIS Art. \n",
      "22. As despesas decorrentes da presente Lei correrão por conta da verba própria do orçamento vigente. Art. 23. Fica o \n",
      "Poder Executivo autorizado a proceder às modificações necessárias no Plano Plurianual DIÁRIO OFICIAL DO SALVADOR-BAHIA SEGUNDA-FEIRA 30 DE MARÇO DE \n",
      "2020 \n"
     ]
    }
   ],
   "source": [
    "words = all_topics[gazeta][pg]['text'].split()\n",
    "new_text = \"\"\n",
    "for i, word in enumerate(words):\n",
    "    new_text += word + \" \"\n",
    "    if (i + 1) % 20 == 0:\n",
    "        new_text += \"\\n\"\n",
    "\n",
    "print(new_text)"
   ]
  },
  {
   "cell_type": "code",
   "execution_count": 29,
   "metadata": {},
   "outputs": [
    {
     "data": {
      "text/html": [
       "<div>\n",
       "<style scoped>\n",
       "    .dataframe tbody tr th:only-of-type {\n",
       "        vertical-align: middle;\n",
       "    }\n",
       "\n",
       "    .dataframe tbody tr th {\n",
       "        vertical-align: top;\n",
       "    }\n",
       "\n",
       "    .dataframe thead th {\n",
       "        text-align: right;\n",
       "    }\n",
       "</style>\n",
       "<table border=\"1\" class=\"dataframe\">\n",
       "  <thead>\n",
       "    <tr style=\"text-align: right;\">\n",
       "      <th></th>\n",
       "      <th>Topic</th>\n",
       "      <th>Count</th>\n",
       "      <th>Name</th>\n",
       "      <th>Representation</th>\n",
       "      <th>Representative_Docs</th>\n",
       "    </tr>\n",
       "  </thead>\n",
       "  <tbody>\n",
       "    <tr>\n",
       "      <th>0</th>\n",
       "      <td>-1</td>\n",
       "      <td>104</td>\n",
       "      <td>-1_acordo_objetivo_compor_finalidade</td>\n",
       "      <td>[acordo, objetivo, compor, finalidade, convida...</td>\n",
       "      <td>[acordo, compor, acordo]</td>\n",
       "    </tr>\n",
       "    <tr>\n",
       "      <th>1</th>\n",
       "      <td>0</td>\n",
       "      <td>23</td>\n",
       "      <td>0_urbanismo___</td>\n",
       "      <td>[urbanismo, , , , , , , , , ]</td>\n",
       "      <td>[municipal, urbanismo, urbanismo]</td>\n",
       "    </tr>\n",
       "    <tr>\n",
       "      <th>2</th>\n",
       "      <td>1</td>\n",
       "      <td>19</td>\n",
       "      <td>1_entidade_instituicao_gabinete_desenvolvimento</td>\n",
       "      <td>[entidade, instituicao, gabinete, desenvolvime...</td>\n",
       "      <td>[entidade, entidade, entidade]</td>\n",
       "    </tr>\n",
       "    <tr>\n",
       "      <th>3</th>\n",
       "      <td>2</td>\n",
       "      <td>18</td>\n",
       "      <td>2_secretaria_geral_secretario_</td>\n",
       "      <td>[secretaria, geral, secretario, , , , , , , ]</td>\n",
       "      <td>[secretario-geral, Secretaria, Secretaria]</td>\n",
       "    </tr>\n",
       "    <tr>\n",
       "      <th>4</th>\n",
       "      <td>3</td>\n",
       "      <td>18</td>\n",
       "      <td>3_situacao_indireto_calamidade_conforme</td>\n",
       "      <td>[situacao, indireto, calamidade, conforme, sim...</td>\n",
       "      <td>[indireto, indireto, situacao]</td>\n",
       "    </tr>\n",
       "  </tbody>\n",
       "</table>\n",
       "</div>"
      ],
      "text/plain": [
       "   Topic  Count                                             Name  \\\n",
       "0     -1    104             -1_acordo_objetivo_compor_finalidade   \n",
       "1      0     23                                   0_urbanismo___   \n",
       "2      1     19  1_entidade_instituicao_gabinete_desenvolvimento   \n",
       "3      2     18                   2_secretaria_geral_secretario_   \n",
       "4      3     18          3_situacao_indireto_calamidade_conforme   \n",
       "\n",
       "                                      Representation  \\\n",
       "0  [acordo, objetivo, compor, finalidade, convida...   \n",
       "1                      [urbanismo, , , , , , , , , ]   \n",
       "2  [entidade, instituicao, gabinete, desenvolvime...   \n",
       "3      [secretaria, geral, secretario, , , , , , , ]   \n",
       "4  [situacao, indireto, calamidade, conforme, sim...   \n",
       "\n",
       "                          Representative_Docs  \n",
       "0                    [acordo, compor, acordo]  \n",
       "1           [municipal, urbanismo, urbanismo]  \n",
       "2              [entidade, entidade, entidade]  \n",
       "3  [secretario-geral, Secretaria, Secretaria]  \n",
       "4              [indireto, indireto, situacao]  "
      ]
     },
     "execution_count": 29,
     "metadata": {},
     "output_type": "execute_result"
    }
   ],
   "source": [
    "all_topics[gazeta][pg]['topics_info'][:5]"
   ]
  },
  {
   "cell_type": "code",
   "execution_count": 30,
   "metadata": {},
   "outputs": [
    {
     "data": {
      "text/html": [
       "<div>\n",
       "<style scoped>\n",
       "    .dataframe tbody tr th:only-of-type {\n",
       "        vertical-align: middle;\n",
       "    }\n",
       "\n",
       "    .dataframe tbody tr th {\n",
       "        vertical-align: top;\n",
       "    }\n",
       "\n",
       "    .dataframe thead th {\n",
       "        text-align: right;\n",
       "    }\n",
       "</style>\n",
       "<table border=\"1\" class=\"dataframe\">\n",
       "  <thead>\n",
       "    <tr style=\"text-align: right;\">\n",
       "      <th></th>\n",
       "      <th>Topic</th>\n",
       "      <th>Count</th>\n",
       "      <th>Name</th>\n",
       "      <th>Representation</th>\n",
       "      <th>Representative_Docs</th>\n",
       "    </tr>\n",
       "  </thead>\n",
       "  <tbody>\n",
       "    <tr>\n",
       "      <th>0</th>\n",
       "      <td>-1</td>\n",
       "      <td>133</td>\n",
       "      <td>-1_coordenador_coordenacao_municipio_emergencia</td>\n",
       "      <td>[coordenador, coordenacao, municipio, emergenc...</td>\n",
       "      <td>[coordenador, coordenador, coordenador]</td>\n",
       "    </tr>\n",
       "    <tr>\n",
       "      <th>1</th>\n",
       "      <td>0</td>\n",
       "      <td>32</td>\n",
       "      <td>0_autorizar_convidar_auxiliar_qualquer</td>\n",
       "      <td>[autorizar, convidar, auxiliar, qualquer, moni...</td>\n",
       "      <td>[autorizar, autorizar, autorizar]</td>\n",
       "    </tr>\n",
       "    <tr>\n",
       "      <th>2</th>\n",
       "      <td>1</td>\n",
       "      <td>30</td>\n",
       "      <td>1_operacao_promocao_administracao_articulacao</td>\n",
       "      <td>[operacao, promocao, administracao, articulaca...</td>\n",
       "      <td>[operacao, operacao, operacao]</td>\n",
       "    </tr>\n",
       "    <tr>\n",
       "      <th>3</th>\n",
       "      <td>2</td>\n",
       "      <td>28</td>\n",
       "      <td>2_secretario_secretaria_secretariogeral_gestao</td>\n",
       "      <td>[secretario, secretaria, secretariogeral, gest...</td>\n",
       "      <td>[secretario, secretario, secretario]</td>\n",
       "    </tr>\n",
       "    <tr>\n",
       "      <th>4</th>\n",
       "      <td>3</td>\n",
       "      <td>25</td>\n",
       "      <td>3_institucional_indicar_instituicao_indireto</td>\n",
       "      <td>[institucional, indicar, instituicao, indireto...</td>\n",
       "      <td>[institucional, institucional, institucional]</td>\n",
       "    </tr>\n",
       "  </tbody>\n",
       "</table>\n",
       "</div>"
      ],
      "text/plain": [
       "   Topic  Count                                             Name  \\\n",
       "0     -1    133  -1_coordenador_coordenacao_municipio_emergencia   \n",
       "1      0     32           0_autorizar_convidar_auxiliar_qualquer   \n",
       "2      1     30    1_operacao_promocao_administracao_articulacao   \n",
       "3      2     28   2_secretario_secretaria_secretariogeral_gestao   \n",
       "4      3     25     3_institucional_indicar_instituicao_indireto   \n",
       "\n",
       "                                      Representation  \\\n",
       "0  [coordenador, coordenacao, municipio, emergenc...   \n",
       "1  [autorizar, convidar, auxiliar, qualquer, moni...   \n",
       "2  [operacao, promocao, administracao, articulaca...   \n",
       "3  [secretario, secretaria, secretariogeral, gest...   \n",
       "4  [institucional, indicar, instituicao, indireto...   \n",
       "\n",
       "                             Representative_Docs  \n",
       "0        [coordenador, coordenador, coordenador]  \n",
       "1              [autorizar, autorizar, autorizar]  \n",
       "2                 [operacao, operacao, operacao]  \n",
       "3           [secretario, secretario, secretario]  \n",
       "4  [institucional, institucional, institucional]  "
      ]
     },
     "execution_count": 30,
     "metadata": {},
     "output_type": "execute_result"
    }
   ],
   "source": [
    "all_topics[gazeta][pg]['topics_infoMaritalk'][:5]"
   ]
  },
  {
   "cell_type": "code",
   "execution_count": 31,
   "metadata": {},
   "outputs": [
    {
     "data": {
      "text/html": [
       "<div>\n",
       "<style scoped>\n",
       "    .dataframe tbody tr th:only-of-type {\n",
       "        vertical-align: middle;\n",
       "    }\n",
       "\n",
       "    .dataframe tbody tr th {\n",
       "        vertical-align: top;\n",
       "    }\n",
       "\n",
       "    .dataframe thead th {\n",
       "        text-align: right;\n",
       "    }\n",
       "</style>\n",
       "<table border=\"1\" class=\"dataframe\">\n",
       "  <thead>\n",
       "    <tr style=\"text-align: right;\">\n",
       "      <th></th>\n",
       "      <th>Topic</th>\n",
       "      <th>Count</th>\n",
       "      <th>Name</th>\n",
       "      <th>Representation</th>\n",
       "      <th>Representative_Docs</th>\n",
       "    </tr>\n",
       "  </thead>\n",
       "  <tbody>\n",
       "    <tr>\n",
       "      <th>0</th>\n",
       "      <td>0</td>\n",
       "      <td>37</td>\n",
       "      <td>Dispensas de Licitação</td>\n",
       "      <td>[publico, informacao, resultado, modificacao, ...</td>\n",
       "      <td>[publico, publico, Publico]</td>\n",
       "    </tr>\n",
       "    <tr>\n",
       "      <th>1</th>\n",
       "      <td>1</td>\n",
       "      <td>7</td>\n",
       "      <td>Contratações Emergenciais</td>\n",
       "      <td>[emergencia, , , , , , , , , ]</td>\n",
       "      <td>[emergencia, emergencia, Emergencia]</td>\n",
       "    </tr>\n",
       "    <tr>\n",
       "      <th>2</th>\n",
       "      <td>2</td>\n",
       "      <td>5</td>\n",
       "      <td>Aquisições Diretas</td>\n",
       "      <td>[diretor, direto, direito, diretriz, , , , , , ]</td>\n",
       "      <td>[direto, diretor, diretor]</td>\n",
       "    </tr>\n",
       "    <tr>\n",
       "      <th>3</th>\n",
       "      <td>3</td>\n",
       "      <td>59</td>\n",
       "      <td>-1_membro___</td>\n",
       "      <td>[membro, , , , , , , , , ]</td>\n",
       "      <td>[membro, membro, membro]</td>\n",
       "    </tr>\n",
       "    <tr>\n",
       "      <th>4</th>\n",
       "      <td>4</td>\n",
       "      <td>29</td>\n",
       "      <td>0_indicar_indireto_inspetor_</td>\n",
       "      <td>[indicar, indireto, inspetor, , , , , , , ]</td>\n",
       "      <td>[indicar, indicar, indicar]</td>\n",
       "    </tr>\n",
       "  </tbody>\n",
       "</table>\n",
       "</div>"
      ],
      "text/plain": [
       "   Topic  Count                          Name  \\\n",
       "0      0     37        Dispensas de Licitação   \n",
       "1      1      7     Contratações Emergenciais   \n",
       "2      2      5            Aquisições Diretas   \n",
       "3      3     59                  -1_membro___   \n",
       "4      4     29  0_indicar_indireto_inspetor_   \n",
       "\n",
       "                                      Representation  \\\n",
       "0  [publico, informacao, resultado, modificacao, ...   \n",
       "1                     [emergencia, , , , , , , , , ]   \n",
       "2   [diretor, direto, direito, diretriz, , , , , , ]   \n",
       "3                         [membro, , , , , , , , , ]   \n",
       "4        [indicar, indireto, inspetor, , , , , , , ]   \n",
       "\n",
       "                    Representative_Docs  \n",
       "0           [publico, publico, Publico]  \n",
       "1  [emergencia, emergencia, Emergencia]  \n",
       "2            [direto, diretor, diretor]  \n",
       "3              [membro, membro, membro]  \n",
       "4           [indicar, indicar, indicar]  "
      ]
     },
     "execution_count": 31,
     "metadata": {},
     "output_type": "execute_result"
    }
   ],
   "source": [
    "all_topics[gazeta][pg]['topics_infoZeroshot'][:5]"
   ]
  },
  {
   "cell_type": "code",
   "execution_count": 11,
   "metadata": {},
   "outputs": [
    {
     "data": {
      "text/plain": [
       "[(periodo, 'PER'),\n",
       " (gestao convenio, 'LOC'),\n",
       " (modificacao, 'LOC'),\n",
       " (instituicao comite, 'ORG'),\n",
       " (Educacao, 'LOC'),\n",
       " (Camara Municipal, 'PER'),\n",
       " (Ministerio Publico, 'ORG'),\n",
       " (Brasil, 'LOC'),\n",
       " (Centro, 'LOC'),\n",
       " (Guarda, 'LOC'),\n",
       " (Secretaria Municipal, 'LOC'),\n",
       " (Secretaria Municipal, 'LOC'),\n",
       " (Centro, 'LOC'),\n",
       " (Centro, 'LOC')]"
      ]
     },
     "execution_count": 11,
     "metadata": {},
     "output_type": "execute_result"
    }
   ],
   "source": [
    "all_topics[gazeta][pg]['Ner']"
   ]
  },
  {
   "cell_type": "code",
   "execution_count": 12,
   "metadata": {},
   "outputs": [
    {
     "data": {
      "text/plain": [
       "[(Capítulo, 'MISC'),\n",
       " (Município de Salvador, 'LOC'),\n",
       " (Decreto, 'MISC'),\n",
       " (Lei, 'MISC'),\n",
       " (CAPÍTULO V DO COMITÊ DE INTEGRAÇÃO INSTITUCIONAL  Art. 15, 'MISC'),\n",
       " (Comitê de Integração Institucional, 'ORG'),\n",
       " (Município de Salvador, 'LOC'),\n",
       " (Covid-19, 'LOC'),\n",
       " (Comitê de Integração Institucional, 'ORG'),\n",
       " (I - Prefeito Municipal, 'MISC'),\n",
       " (II - Vice-Prefeito, 'MISC'),\n",
       " (Casa Civil, 'PER'),\n",
       " (IV - Chefe de Gabinete do Prefeito, 'MISC'),\n",
       " (V - Procurador-Geral do Município, 'MISC'),\n",
       " (Secretário Municipal da Saúde, 'PER'),\n",
       " (Secretário Municipal da Fazenda, 'LOC'),\n",
       " (Secretário Municipal de Promoção Social e Combate à Pobreza, 'PER'),\n",
       " (Secretário Municipal de Educação, 'PER'),\n",
       " (Secretário Municipal de Desenvolvimento e Urbanismo, 'LOC'),\n",
       " (XIV- Secretário Municipal de Ordem Pública, 'PER'),\n",
       " (Controlador-Geral do Município, 'LOC'),\n",
       " (Comitê de Integração Institucional, 'ORG'),\n",
       " (Presidente, 'MISC'),\n",
       " (Secretários Municipais, 'PER'),\n",
       " (Administração Indireta Municipal, 'ORG'),\n",
       " (Prefeito, 'ORG'),\n",
       " (Vice-presidente da Câmara Municipal de Salvador, 'ORG'),\n",
       " (Estado da Bahia, 'LOC'),\n",
       " (Vereadores e Conselheiros do TCM, 'ORG'),\n",
       " (Presidente, 'MISC'),\n",
       " (V - Parlamentares, 'MISC'),\n",
       " (Ministério Público, 'LOC'),\n",
       " (Poder Judiciário, 'MISC'),\n",
       " (Defensoria Pública, 'LOC'),\n",
       " (Ordem, 'ORG'),\n",
       " (Advogados do Brasil, 'ORG'),\n",
       " (Bahia, 'LOC'),\n",
       " (Comitê, 'ORG'),\n",
       " (Diretores ou Coordenadores, 'MISC'),\n",
       " (Comitê, 'ORG'),\n",
       " (Comitê de Integração Institucional, 'ORG'),\n",
       " (Centro de Coordenação   de Operações, 'LOC'),\n",
       " (Prefeitura   Municipal, 'LOC'),\n",
       " (Covid-19, 'ORG'),\n",
       " (Comitê de Integração   Institucional, 'ORG'),\n",
       " (Covid-19, 'PER'),\n",
       " (Presidente do Comitê, 'ORG'),\n",
       " (Covid-19, 'LOC'),\n",
       " (Comitê de Integração   Institucional, 'ORG'),\n",
       " (Centro de Coordenação de Operações do Comitê, 'LOC'),\n",
       " (Secretário de Promoção Social e Combate à Pobreza, 'ORG'),\n",
       " (Coordenador, 'MISC'),\n",
       " (II - Vice-Prefeito, 'MISC'),\n",
       " (Secretário Municipal de Saúde, 'PER'),\n",
       " (IV -, 'MISC'),\n",
       " (VII - Coordenador, 'MISC'),\n",
       " (Serviço Médico de Atendimento de Urgência, 'ORG'),\n",
       " (Civil Municipal, 'LOC'),\n",
       " (Diretor de Fiscalização da Secretaria Municipal de Desenvolvimento e Urbanismo,\n",
       "  'LOC'),\n",
       " (X - Coordenador de Apoio as Ações de Vigilância, 'MISC'),\n",
       " (Secretaria Municipal de Saúde, 'LOC'),\n",
       " (Centro, 'LOC'),\n",
       " (Comitê de Integração Institucional, 'ORG'),\n",
       " (Centro de Coordenação de Operações, 'LOC'),\n",
       " (Comitê de Integração Institucional, 'ORG'),\n",
       " (Centro de Coordenação de Operações, 'LOC'),\n",
       " (Administração Direta, 'ORG'),\n",
       " (Indireta do Município, 'LOC'),\n",
       " (Comitê, 'ORG'),\n",
       " (Centro, 'LOC'),\n",
       " (Presidente, 'MISC'),\n",
       " (Coordenador, 'MISC'),\n",
       " (Comitê de Integração Institucional, 'ORG'),\n",
       " (Centro de Coordenação   de Operações, 'LOC'),\n",
       " (CAPÍTULO VI  DISPOSIÇÕES FINAIS, 'MISC'),\n",
       " (Lei correrão, 'MISC'),\n",
       " (Poder Executivo, 'ORG'),\n",
       " (Plano Plurianual, 'LOC'),\n",
       " (DIÁRIO OFICIAL DO SALVADOR-BAHIA, 'MISC')]"
      ]
     },
     "execution_count": 12,
     "metadata": {},
     "output_type": "execute_result"
    }
   ],
   "source": [
    "all_topics[gazeta][pg]['Ner_text']"
   ]
  },
  {
   "cell_type": "code",
   "execution_count": 15,
   "metadata": {},
   "outputs": [
    {
     "name": "stdout",
     "output_type": "stream",
     "text": [
      "  ```python\n",
      "{\n",
      "  \"Person\": [\"Prefeito Municipal\", \"Vice-Prefeito\", \"Chefe da Casa Civil\", \"Chefe de Gabinete do Prefeito\", \"Procurador-Geral do Município\", \"Secretário Municipal da Saúde\", \"Secretário Municipal da Fazenda\", \"Secretário Municipal de Promoção Social e Combate à Pobreza\", \"Secretário Municipal de Educação\", \"Secretário Municipal de Infraestrutura\", \"Secretário Municipal de Gestão\", \"Secretário Municipal de Mobilidade\", \"Secretário Municipal de Desenvolvimento e Urbanismo\", \"Secretário Municipal de Ordem Pública\", \"Secretário Municipal de Comunicação\", \"Secretário-Geral de Articulação Comunitária e Prefeituras-Bairro\", \"Controlador-Geral do Município\"],\n",
      "  \"Organization\": [\"Prefeitura Municipal de Salvador\", \"Centro de Coordenação de Operações\"],\n",
      "  \"Location\": [\"Salvador\"],\n",
      "  \"Date\": [\"19 de março de 2020\", \"perdurar durante o período da pandemia\", \"3 (três) meses\"],\n",
      "  \"Time\": [\"durante o estado de emergência\", \"estado de calamidade pública decretados em função do Covid-19\"],\n",
      "  \"Money\": [\"verba própria do orçamento vigente\"]\n",
      "}\n",
      "```\n"
     ]
    }
   ],
   "source": [
    "print(all_topics[gazeta][pg]['Ner_mari_txt'])"
   ]
  },
  {
   "cell_type": "code",
   "execution_count": 17,
   "metadata": {},
   "outputs": [
    {
     "name": "stdout",
     "output_type": "stream",
     "text": [
      "  ```python\n",
      "{\n",
      "    \"Person\": [\"prever\", \"capitulo\", \"carater\", \"temporario\", \"excepcional\", \"perdurar\", \"durante\", \"periodo\", \"pandemia\", \"paragrafo\", \"autorizar\", \"prorrogacao\", \"oficio\", \"colaboracao\", \"fomento\", \"acordo\", \"cooperacao\", \"termos\", \"parceria\", \"contrato\", \"repasse\", \"contrato\", \"gestao\", \"convenio\", \"ajuste\", \"similar\", \"vencimento\", \"decretacao\", \"emergencia\", \"municipio\", \"salvador\", \"duracao\", \"Emergencia\", \"decretacao\", \"emergencia\", \"condicao\", \"avencadas\", \"observar\", \"aspecto\", \"procedimental\", \"legislacao\", \"pertinente\", \"ajuste\", \"prorrogar\", \"autorizar\", \"estabelecimento\", \"mediante\", \"decreto\", \"excepcional\", \"prestacao\", \"ajuste\", \"sofram\", \"modificacao\", \"prever\", \"justificar\", \"cenario\", \"emergencia\", \"acordo\", \"legislacao\", \"vigente\", \"capitulo\", \"comite\", \"integracao\", \"institucional\", \"reconhecido\", \"instituicao\", \"comite\", \"integracao\", \"institucional\", \"finalidade\", \"centralizar\", \"tomada\", \"decisao\", \"integrar\", \"alinhar\", \"governamental\", \"enfrentamento\", \"ambito\", \"municipio\", \"salvador\", \"problema\", \"decorrente\", \"pandemia\", \"coronavirus\", \"vistas\", \"prevenir\", \"assistencia\", \"populacao\", \"minimizar\", \"impacto\", \"resultante\", \"situacao\", \"emergencia\", \"calamidade\", \"publico\", \"decretar\", \"funcao\", \"supervisionar\", \"monitorar\", \"resultado\", \"alc\n"
     ]
    }
   ],
   "source": [
    "print(all_topics[gazeta][pg]['Ner_mari'])"
   ]
  }
 ],
 "metadata": {
  "kernelspec": {
   "display_name": "Python 3",
   "language": "python",
   "name": "python3"
  },
  "language_info": {
   "codemirror_mode": {
    "name": "ipython",
    "version": 3
   },
   "file_extension": ".py",
   "mimetype": "text/x-python",
   "name": "python",
   "nbconvert_exporter": "python",
   "pygments_lexer": "ipython3",
   "version": "3.12.2"
  }
 },
 "nbformat": 4,
 "nbformat_minor": 2
}
