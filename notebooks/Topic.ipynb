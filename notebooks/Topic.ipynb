{
 "cells": [
  {
   "cell_type": "markdown",
   "metadata": {},
   "source": [
    "# Análise dos Tópicos \n",
    "\n",
    "Esse notebook possui os códigos para a análise dos tópicos extraídos dos diários oficiais. "
   ]
  },
  {
   "cell_type": "markdown",
   "metadata": {},
   "source": [
    "## Imports Necessários"
   ]
  },
  {
   "cell_type": "code",
   "execution_count": 1,
   "metadata": {},
   "outputs": [],
   "source": [
    "# Código para poder usar os módulos implementados nesse repositório no notebook \n",
    "import sys, os\n",
    "path_module = os.path.abspath('../modules/')\n",
    "if path_module not in sys.path:\n",
    "    sys.path.append(path_module)"
   ]
  },
  {
   "cell_type": "code",
   "execution_count": 2,
   "metadata": {},
   "outputs": [],
   "source": [
    "# imports do projeto\n",
    "\n",
    "from utils.process_gazette import ProcessGazette\n",
    "from preprocess.pre_process_text import PreProcessText\n",
    "from nlp.extract_topics import ExtractTopics\n",
    "from nlp.extract_topicsLLM import ExtractTopicsLLM\n",
    "from nlp.ner import Ner\n",
    "from nlp.sentiment import Sentiment\n",
    "from nlp.summarizer import Summarizer\n",
    "from nlp.classifier import Classifier"
   ]
  },
  {
   "cell_type": "markdown",
   "metadata": {},
   "source": [
    "## Extraindo de multiplas gazetas"
   ]
  },
  {
   "cell_type": "code",
   "execution_count": 3,
   "metadata": {},
   "outputs": [],
   "source": [
    "pp = ProcessGazette(BASE_DIR=\"gazettes/\")\n",
    "txt_files = [f for f in os.listdir(\"gazettes/\") if f.endswith('.txt')]\n",
    "all_pages = []\n",
    "for txt_file in txt_files:\n",
    "    pages = pp.break_pages(txt_file, \"ANO [X|V|I]+ \", save_file=True)\n",
    "    all_pages.append(pages)"
   ]
  },
  {
   "cell_type": "code",
   "execution_count": 4,
   "metadata": {},
   "outputs": [],
   "source": [
    "cont = 1 #len(all_pages)"
   ]
  },
  {
   "cell_type": "code",
   "execution_count": 5,
   "metadata": {},
   "outputs": [
    {
     "name": "stderr",
     "output_type": "stream",
     "text": [
      "c:\\Users\\erick\\AppData\\Local\\Programs\\Python\\Python312\\Lib\\site-packages\\tqdm\\auto.py:21: TqdmWarning: IProgress not found. Please update jupyter and ipywidgets. See https://ipywidgets.readthedocs.io/en/stable/user_install.html\n",
      "  from .autonotebook import tqdm as notebook_tqdm\n"
     ]
    }
   ],
   "source": [
    "all_topics = {}\n",
    "topics_ = {}\n",
    "ppt = PreProcessText(\"pt_core_news_lg\")\n",
    "for gazette in range(0,cont):\n",
    "    all_topics[gazette] = {}\n",
    "    for page, text in all_pages[gazette].items():\n",
    "        topics_[page] = {'text': text, 'topics': []}\n",
    "        tokens_ = ppt.process_text(topics_[page]['text'])\n",
    "        if len(tokens_) > 5 and page:\n",
    "            topics_[page]['tokens'] = tokens_\n",
    "            \n",
    "            all_topics[gazette][page] = topics_[page]"
   ]
  },
  {
   "cell_type": "code",
   "execution_count": 6,
   "metadata": {},
   "outputs": [],
   "source": [
    "# Escolha da gazeta e da página\n",
    "gazette = 0\n",
    "page = 4"
   ]
  },
  {
   "cell_type": "markdown",
   "metadata": {},
   "source": [
    "## Amplamente difundido"
   ]
  },
  {
   "cell_type": "markdown",
   "metadata": {},
   "source": [
    "### Bertopic"
   ]
  },
  {
   "cell_type": "code",
   "execution_count": 14,
   "metadata": {},
   "outputs": [],
   "source": [
    "extractor = ExtractTopics(model = 'default')\n",
    "#extractorGpt = ExtractTopics(model = 'gpt')\n",
    "extractorZeroshot = ExtractTopics(model = 'zeroshot')\n",
    "extractorMaritalk = ExtractTopics(model = 'maritalk')\n",
    "\n",
    "all_topics[gazette][page]['topics'], all_topics[gazette][page]['topics_info'] = extractor.extract_topics(all_topics[gazette][page]['tokens'])\n",
    "#all_topics[gazette][page]['topicsGpt'], all_topics[gazette][page]['topics_infoGpt'] = extractorGpt.extract_topics(all_topics[gazette][page]['tokens'])\n",
    "all_topics[gazette][page]['topicsZeroshot'], all_topics[gazette][page]['topics_infoZeroshot'] = extractorZeroshot.extract_topics(all_topics[gazette][page]['tokens'])\n",
    "all_topics[gazette][page]['topicsMaritalk'], all_topics[gazette][page]['topics_infoMaritalk'] = extractorMaritalk.extract_topics(all_topics[gazette][page]['tokens'])\n"
   ]
  },
  {
   "cell_type": "code",
   "execution_count": 15,
   "metadata": {},
   "outputs": [
    {
     "data": {
      "text/html": [
       "<div>\n",
       "<style scoped>\n",
       "    .dataframe tbody tr th:only-of-type {\n",
       "        vertical-align: middle;\n",
       "    }\n",
       "\n",
       "    .dataframe tbody tr th {\n",
       "        vertical-align: top;\n",
       "    }\n",
       "\n",
       "    .dataframe thead th {\n",
       "        text-align: right;\n",
       "    }\n",
       "</style>\n",
       "<table border=\"1\" class=\"dataframe\">\n",
       "  <thead>\n",
       "    <tr style=\"text-align: right;\">\n",
       "      <th></th>\n",
       "      <th>Topic</th>\n",
       "      <th>Count</th>\n",
       "      <th>Name</th>\n",
       "      <th>Representation</th>\n",
       "      <th>Representative_Docs</th>\n",
       "    </tr>\n",
       "  </thead>\n",
       "  <tbody>\n",
       "    <tr>\n",
       "      <th>0</th>\n",
       "      <td>-1</td>\n",
       "      <td>104</td>\n",
       "      <td>-1_acordo_objetivo_compor_finalidade</td>\n",
       "      <td>[acordo, objetivo, compor, finalidade, convida...</td>\n",
       "      <td>[acordo, compor, acordo]</td>\n",
       "    </tr>\n",
       "    <tr>\n",
       "      <th>1</th>\n",
       "      <td>0</td>\n",
       "      <td>23</td>\n",
       "      <td>0_urbanismo___</td>\n",
       "      <td>[urbanismo, , , , , , , , , ]</td>\n",
       "      <td>[municipal, urbanismo, urbanismo]</td>\n",
       "    </tr>\n",
       "    <tr>\n",
       "      <th>2</th>\n",
       "      <td>1</td>\n",
       "      <td>19</td>\n",
       "      <td>1_entidade_instituicao_gabinete_desenvolvimento</td>\n",
       "      <td>[entidade, instituicao, gabinete, desenvolvime...</td>\n",
       "      <td>[entidade, entidade, entidade]</td>\n",
       "    </tr>\n",
       "    <tr>\n",
       "      <th>3</th>\n",
       "      <td>2</td>\n",
       "      <td>18</td>\n",
       "      <td>2_secretaria_geral_secretario_</td>\n",
       "      <td>[secretaria, geral, secretario, , , , , , , ]</td>\n",
       "      <td>[secretario-geral, Secretaria, Secretaria]</td>\n",
       "    </tr>\n",
       "    <tr>\n",
       "      <th>4</th>\n",
       "      <td>3</td>\n",
       "      <td>18</td>\n",
       "      <td>3_situacao_indireto_calamidade_conforme</td>\n",
       "      <td>[situacao, indireto, calamidade, conforme, sim...</td>\n",
       "      <td>[indireto, indireto, situacao]</td>\n",
       "    </tr>\n",
       "  </tbody>\n",
       "</table>\n",
       "</div>"
      ],
      "text/plain": [
       "   Topic  Count                                             Name  \\\n",
       "0     -1    104             -1_acordo_objetivo_compor_finalidade   \n",
       "1      0     23                                   0_urbanismo___   \n",
       "2      1     19  1_entidade_instituicao_gabinete_desenvolvimento   \n",
       "3      2     18                   2_secretaria_geral_secretario_   \n",
       "4      3     18          3_situacao_indireto_calamidade_conforme   \n",
       "\n",
       "                                      Representation  \\\n",
       "0  [acordo, objetivo, compor, finalidade, convida...   \n",
       "1                      [urbanismo, , , , , , , , , ]   \n",
       "2  [entidade, instituicao, gabinete, desenvolvime...   \n",
       "3      [secretaria, geral, secretario, , , , , , , ]   \n",
       "4  [situacao, indireto, calamidade, conforme, sim...   \n",
       "\n",
       "                          Representative_Docs  \n",
       "0                    [acordo, compor, acordo]  \n",
       "1           [municipal, urbanismo, urbanismo]  \n",
       "2              [entidade, entidade, entidade]  \n",
       "3  [secretario-geral, Secretaria, Secretaria]  \n",
       "4              [indireto, indireto, situacao]  "
      ]
     },
     "execution_count": 15,
     "metadata": {},
     "output_type": "execute_result"
    }
   ],
   "source": [
    "all_topics[gazette][page]['topics_info'][:5]"
   ]
  },
  {
   "cell_type": "code",
   "execution_count": 16,
   "metadata": {},
   "outputs": [
    {
     "data": {
      "text/html": [
       "<div>\n",
       "<style scoped>\n",
       "    .dataframe tbody tr th:only-of-type {\n",
       "        vertical-align: middle;\n",
       "    }\n",
       "\n",
       "    .dataframe tbody tr th {\n",
       "        vertical-align: top;\n",
       "    }\n",
       "\n",
       "    .dataframe thead th {\n",
       "        text-align: right;\n",
       "    }\n",
       "</style>\n",
       "<table border=\"1\" class=\"dataframe\">\n",
       "  <thead>\n",
       "    <tr style=\"text-align: right;\">\n",
       "      <th></th>\n",
       "      <th>Topic</th>\n",
       "      <th>Count</th>\n",
       "      <th>Name</th>\n",
       "      <th>Representation</th>\n",
       "      <th>Representative_Docs</th>\n",
       "    </tr>\n",
       "  </thead>\n",
       "  <tbody>\n",
       "    <tr>\n",
       "      <th>0</th>\n",
       "      <td>-1</td>\n",
       "      <td>67</td>\n",
       "      <td>-1_coordenacao_municipio_membro_objetivo</td>\n",
       "      <td>[coordenacao, municipio, membro, objetivo, res...</td>\n",
       "      <td>[coordenacao, coordenacao, coordenacao]</td>\n",
       "    </tr>\n",
       "    <tr>\n",
       "      <th>1</th>\n",
       "      <td>0</td>\n",
       "      <td>88</td>\n",
       "      <td>0_autorizar_privado_representante_pobreza</td>\n",
       "      <td>[autorizar, privado, representante, pobreza, c...</td>\n",
       "      <td>[privado, autorizar, privado]</td>\n",
       "    </tr>\n",
       "    <tr>\n",
       "      <th>2</th>\n",
       "      <td>1</td>\n",
       "      <td>44</td>\n",
       "      <td>1_operacao_prefeito_administracao_promocao</td>\n",
       "      <td>[operacao, prefeito, administracao, promocao, ...</td>\n",
       "      <td>[operacao, operacao, operacao]</td>\n",
       "    </tr>\n",
       "    <tr>\n",
       "      <th>3</th>\n",
       "      <td>2</td>\n",
       "      <td>38</td>\n",
       "      <td>2_acordo_entidade_enfrentamento_situacao</td>\n",
       "      <td>[acordo, entidade, enfrentamento, situacao, mo...</td>\n",
       "      <td>[entidade, acordo, acordo]</td>\n",
       "    </tr>\n",
       "    <tr>\n",
       "      <th>4</th>\n",
       "      <td>3</td>\n",
       "      <td>29</td>\n",
       "      <td>3_integracao_trabalho_reuniao_requisitar</td>\n",
       "      <td>[integracao, trabalho, reuniao, requisitar, du...</td>\n",
       "      <td>[integracao, integracao, integracao]</td>\n",
       "    </tr>\n",
       "  </tbody>\n",
       "</table>\n",
       "</div>"
      ],
      "text/plain": [
       "   Topic  Count                                        Name  \\\n",
       "0     -1     67    -1_coordenacao_municipio_membro_objetivo   \n",
       "1      0     88   0_autorizar_privado_representante_pobreza   \n",
       "2      1     44  1_operacao_prefeito_administracao_promocao   \n",
       "3      2     38    2_acordo_entidade_enfrentamento_situacao   \n",
       "4      3     29    3_integracao_trabalho_reuniao_requisitar   \n",
       "\n",
       "                                      Representation  \\\n",
       "0  [coordenacao, municipio, membro, objetivo, res...   \n",
       "1  [autorizar, privado, representante, pobreza, c...   \n",
       "2  [operacao, prefeito, administracao, promocao, ...   \n",
       "3  [acordo, entidade, enfrentamento, situacao, mo...   \n",
       "4  [integracao, trabalho, reuniao, requisitar, du...   \n",
       "\n",
       "                       Representative_Docs  \n",
       "0  [coordenacao, coordenacao, coordenacao]  \n",
       "1            [privado, autorizar, privado]  \n",
       "2           [operacao, operacao, operacao]  \n",
       "3               [entidade, acordo, acordo]  \n",
       "4     [integracao, integracao, integracao]  "
      ]
     },
     "execution_count": 16,
     "metadata": {},
     "output_type": "execute_result"
    }
   ],
   "source": [
    "all_topics[gazette][page]['topics_infoMaritalk'][:5]"
   ]
  },
  {
   "cell_type": "code",
   "execution_count": 17,
   "metadata": {},
   "outputs": [
    {
     "data": {
      "text/html": [
       "<div>\n",
       "<style scoped>\n",
       "    .dataframe tbody tr th:only-of-type {\n",
       "        vertical-align: middle;\n",
       "    }\n",
       "\n",
       "    .dataframe tbody tr th {\n",
       "        vertical-align: top;\n",
       "    }\n",
       "\n",
       "    .dataframe thead th {\n",
       "        text-align: right;\n",
       "    }\n",
       "</style>\n",
       "<table border=\"1\" class=\"dataframe\">\n",
       "  <thead>\n",
       "    <tr style=\"text-align: right;\">\n",
       "      <th></th>\n",
       "      <th>Topic</th>\n",
       "      <th>Count</th>\n",
       "      <th>Name</th>\n",
       "      <th>Representation</th>\n",
       "      <th>Representative_Docs</th>\n",
       "    </tr>\n",
       "  </thead>\n",
       "  <tbody>\n",
       "    <tr>\n",
       "      <th>0</th>\n",
       "      <td>0</td>\n",
       "      <td>37</td>\n",
       "      <td>Dispensas de Licitação</td>\n",
       "      <td>[publico, informacao, resultado, modificacao, ...</td>\n",
       "      <td>[publico, publico, Publico]</td>\n",
       "    </tr>\n",
       "    <tr>\n",
       "      <th>1</th>\n",
       "      <td>1</td>\n",
       "      <td>7</td>\n",
       "      <td>Contratações Emergenciais</td>\n",
       "      <td>[emergencia, , , , , , , , , ]</td>\n",
       "      <td>[emergencia, emergencia, Emergencia]</td>\n",
       "    </tr>\n",
       "    <tr>\n",
       "      <th>2</th>\n",
       "      <td>2</td>\n",
       "      <td>5</td>\n",
       "      <td>Aquisições Diretas</td>\n",
       "      <td>[diretor, direto, direito, diretriz, , , , , , ]</td>\n",
       "      <td>[direto, diretor, diretor]</td>\n",
       "    </tr>\n",
       "    <tr>\n",
       "      <th>3</th>\n",
       "      <td>3</td>\n",
       "      <td>62</td>\n",
       "      <td>-1_membro_tomada__</td>\n",
       "      <td>[membro, tomada, , , , , , , , ]</td>\n",
       "      <td>[membro, membro, membro]</td>\n",
       "    </tr>\n",
       "    <tr>\n",
       "      <th>4</th>\n",
       "      <td>4</td>\n",
       "      <td>32</td>\n",
       "      <td>0_indicar_indireto_inspetor_</td>\n",
       "      <td>[indicar, indireto, inspetor, , , , , , , ]</td>\n",
       "      <td>[indicar, indicar, indicar]</td>\n",
       "    </tr>\n",
       "  </tbody>\n",
       "</table>\n",
       "</div>"
      ],
      "text/plain": [
       "   Topic  Count                          Name  \\\n",
       "0      0     37        Dispensas de Licitação   \n",
       "1      1      7     Contratações Emergenciais   \n",
       "2      2      5            Aquisições Diretas   \n",
       "3      3     62            -1_membro_tomada__   \n",
       "4      4     32  0_indicar_indireto_inspetor_   \n",
       "\n",
       "                                      Representation  \\\n",
       "0  [publico, informacao, resultado, modificacao, ...   \n",
       "1                     [emergencia, , , , , , , , , ]   \n",
       "2   [diretor, direto, direito, diretriz, , , , , , ]   \n",
       "3                   [membro, tomada, , , , , , , , ]   \n",
       "4        [indicar, indireto, inspetor, , , , , , , ]   \n",
       "\n",
       "                    Representative_Docs  \n",
       "0           [publico, publico, Publico]  \n",
       "1  [emergencia, emergencia, Emergencia]  \n",
       "2            [direto, diretor, diretor]  \n",
       "3              [membro, membro, membro]  \n",
       "4           [indicar, indicar, indicar]  "
      ]
     },
     "execution_count": 17,
     "metadata": {},
     "output_type": "execute_result"
    }
   ],
   "source": [
    "all_topics[gazette][page]['topics_infoZeroshot'][:5]"
   ]
  },
  {
   "cell_type": "markdown",
   "metadata": {},
   "source": [
    "### NER"
   ]
  },
  {
   "cell_type": "code",
   "execution_count": 7,
   "metadata": {},
   "outputs": [
    {
     "name": "stdout",
     "output_type": "stream",
     "text": [
      "[(periodo, 'PER'), (gestao convenio, 'LOC'), (modificacao, 'LOC'), (instituicao comite, 'ORG'), (Educacao, 'LOC'), (Camara Municipal, 'PER'), (Ministerio Publico, 'ORG'), (Brasil, 'LOC'), (Centro, 'LOC'), (Guarda, 'LOC'), (Secretaria Municipal, 'LOC'), (Secretaria Municipal, 'LOC'), (Centro, 'LOC'), (Centro, 'LOC')]\n",
      "[(Capítulo, 'MISC'), (Município de Salvador, 'LOC'), (Decreto, 'MISC'), (Lei, 'MISC'), (CAPÍTULO V DO COMITÊ DE INTEGRAÇÃO INSTITUCIONAL  Art. 15, 'MISC'), (Comitê de Integração Institucional, 'ORG'), (Município de Salvador, 'LOC'), (Covid-19, 'LOC'), (Comitê de Integração Institucional, 'ORG'), (I - Prefeito Municipal, 'MISC'), (II - Vice-Prefeito, 'MISC'), (Casa Civil, 'PER'), (IV - Chefe de Gabinete do Prefeito, 'MISC'), (V - Procurador-Geral do Município, 'MISC'), (Secretário Municipal da Saúde, 'PER'), (Secretário Municipal da Fazenda, 'LOC'), (Secretário Municipal de Promoção Social e Combate à Pobreza, 'PER'), (Secretário Municipal de Educação, 'PER'), (Secretário Municipal de Desenvolvimento e Urbanismo, 'LOC'), (XIV- Secretário Municipal de Ordem Pública, 'PER'), (Controlador-Geral do Município, 'LOC'), (Comitê de Integração Institucional, 'ORG'), (Presidente, 'MISC'), (Secretários Municipais, 'PER'), (Administração Indireta Municipal, 'ORG'), (Prefeito, 'ORG'), (Vice-presidente da Câmara Municipal de Salvador, 'ORG'), (Estado da Bahia, 'LOC'), (Vereadores e Conselheiros do TCM, 'ORG'), (Presidente, 'MISC'), (V - Parlamentares, 'MISC'), (Ministério Público, 'LOC'), (Poder Judiciário, 'MISC'), (Defensoria Pública, 'LOC'), (Ordem, 'ORG'), (Advogados do Brasil, 'ORG'), (Bahia, 'LOC'), (Comitê, 'ORG'), (Diretores ou Coordenadores, 'MISC'), (Comitê, 'ORG'), (Comitê de Integração Institucional, 'ORG'), (Centro de Coordenação   de Operações, 'LOC'), (Prefeitura   Municipal, 'LOC'), (Covid-19, 'ORG'), (Comitê de Integração   Institucional, 'ORG'), (Covid-19, 'PER'), (Presidente do Comitê, 'ORG'), (Covid-19, 'LOC'), (Comitê de Integração   Institucional, 'ORG'), (Centro de Coordenação de Operações do Comitê, 'LOC'), (Secretário de Promoção Social e Combate à Pobreza, 'ORG'), (Coordenador, 'MISC'), (II - Vice-Prefeito, 'MISC'), (Secretário Municipal de Saúde, 'PER'), (IV -, 'MISC'), (VII - Coordenador, 'MISC'), (Serviço Médico de Atendimento de Urgência, 'ORG'), (Civil Municipal, 'LOC'), (Diretor de Fiscalização da Secretaria Municipal de Desenvolvimento e Urbanismo, 'LOC'), (X - Coordenador de Apoio as Ações de Vigilância, 'MISC'), (Secretaria Municipal de Saúde, 'LOC'), (Centro, 'LOC'), (Comitê de Integração Institucional, 'ORG'), (Centro de Coordenação de Operações, 'LOC'), (Comitê de Integração Institucional, 'ORG'), (Centro de Coordenação de Operações, 'LOC'), (Administração Direta, 'ORG'), (Indireta do Município, 'LOC'), (Comitê, 'ORG'), (Centro, 'LOC'), (Presidente, 'MISC'), (Coordenador, 'MISC'), (Comitê de Integração Institucional, 'ORG'), (Centro de Coordenação   de Operações, 'LOC'), (CAPÍTULO VI  DISPOSIÇÕES FINAIS, 'MISC'), (Lei correrão, 'MISC'), (Poder Executivo, 'ORG'), (Plano Plurianual, 'LOC'), (DIÁRIO OFICIAL DO SALVADOR-BAHIA, 'MISC')]\n"
     ]
    }
   ],
   "source": [
    "ner = Ner()\n",
    "all_topics[gazette][page]['ner_tokens'] = ner.extract_entities_tokens(all_topics[gazette][page]['tokens'])\n",
    "print(all_topics[gazette][page]['ner_tokens'])\n",
    "all_topics[gazette][page]['ner_text'] = ner.extract_entities_text(all_topics[gazette][page]['text'])\n",
    "print(all_topics[gazette][page]['ner_text'])"
   ]
  },
  {
   "cell_type": "markdown",
   "metadata": {},
   "source": [
    "### Sentiment"
   ]
  },
  {
   "cell_type": "code",
   "execution_count": 13,
   "metadata": {},
   "outputs": [
    {
     "data": {
      "text/plain": [
       "'positive'"
      ]
     },
     "execution_count": 13,
     "metadata": {},
     "output_type": "execute_result"
    }
   ],
   "source": [
    "sentiment = Sentiment()\n",
    "all_topics[gazette][page]['sentiment'] = sentiment.sentiment_analyze_spacy(all_topics[gazette][page]['text'])\n",
    "all_topics[gazette][page]['sentiment']"
   ]
  },
  {
   "cell_type": "markdown",
   "metadata": {},
   "source": [
    "## LLMs"
   ]
  },
  {
   "cell_type": "markdown",
   "metadata": {},
   "source": [
    "### Classifier"
   ]
  },
  {
   "cell_type": "code",
   "execution_count": 20,
   "metadata": {},
   "outputs": [
    {
     "data": {
      "text/plain": [
       "' Atos Administrativos'"
      ]
     },
     "execution_count": 20,
     "metadata": {},
     "output_type": "execute_result"
    }
   ],
   "source": [
    "classifier = Classifier()\n",
    "all_topics[gazette][page]['classe'] = classifier.classify(all_topics[gazette][page]['text'])\n",
    "all_topics[gazette][page]['classe']"
   ]
  },
  {
   "cell_type": "markdown",
   "metadata": {},
   "source": [
    "### Extract Topics LLM"
   ]
  },
  {
   "cell_type": "code",
   "execution_count": 7,
   "metadata": {},
   "outputs": [
    {
     "name": "stdout",
     "output_type": "stream",
     "text": [
      "  ```python\n",
      "    {\n",
      "        \"Lei Municipal N° 7.6114\": {\n",
      "            \"Description\": \"Institui normas excepcionais para o enfrentamento da pandemia de Covid-19 no âmbito do Município de Salvador.\",\n",
      "            \"Frequency\": 1\n",
      "        },\n",
      "        \"Capítulo V - Comitê de Integração Institucional\": {\n",
      "            \"Description\": \"Define a composição e competências do Comitê de Integração Institucional.\",\n",
      "            \"Frequency\": 1\n",
      "        },\n",
      "        \"Art. 15 - Composição do Comitê\": {\n",
      "            \"Description\": \"Lista os membros do Comitê de Integração Institucional.\",\n",
      "            \"Frequency\": 1\n",
      "        },\n",
      "        \"Art. 16 - Composição do Comitê - Detalhamento\": {\n",
      "            \"Description\": \"Detalha a composição do Comitê de Integração Institucional, incluindo membros do Executivo e Legislativo Municipais e outras autoridades.\",\n",
      "            \"Frequency\": 1\n",
      "        },\n",
      "        \"Art. 17 - Centro de Coordenação de Operações\": {\n",
      "            \"Description\": \"Descreve as funções do Centro de Coordenação de Operações vinculado ao Comitê.\",\n",
      "            \"Frequency\": 1\n",
      "        },\n",
      "        \"Art. 18 - Composição do Centro de Coordenação de Operações\": {\n",
      "            \"Description\": \"Apresenta a estrutura do Centro de Coordenação de Operações e seus membros.\",\n",
      "            \"Frequency\": 1\n",
      "        },\n",
      "        \"Art. 19 - Grupos de Trabalho\": {\n",
      "            \"Description\": \"Regulamenta a criação de grupos de trabalho para apoio ao Comitê e ao Centro.\",\n",
      "            \"Frequency\": 1\n",
      "        },\n",
      "        \"Art. 20 - Reuniões do Comitê e do Centro\": {\n",
      "            \"Description\": \"Estabelece a forma de convocação e realização das reuniões do Comitê e do Cent\n"
     ]
    }
   ],
   "source": [
    "extractTopicsLLM = ExtractTopicsLLM()\n",
    "all_topics[gazette][page]['topics'] = extractTopicsLLM.extract_topics(all_topics[gazette][page]['text'])\n",
    "print(all_topics[gazette][page]['topics'])"
   ]
  },
  {
   "cell_type": "markdown",
   "metadata": {},
   "source": [
    "### NER"
   ]
  },
  {
   "cell_type": "code",
   "execution_count": 10,
   "metadata": {},
   "outputs": [
    {
     "name": "stdout",
     "output_type": "stream",
     "text": [
      "  ```python\n",
      "{\n",
      "    \"Person\": [\"Prefeito Municipal\", \"Vice-Prefeito\", \"Chefe da Casa Civil\", \"Chefe de Gabinete do Prefeito\", \"Procurador-Geral do Município\", \"Secretário Municipal da Saúde\", \"Secretário Municipal da Fazenda\", \"Secretário Municipal de Promoção Social e Combate à Pobreza\", \"Secretário Municipal de Educação\", \"Secretário Municipal de Infraestrutura\", \"Secretário Municipal de Gestão\", \"Secretário Municipal de Mobilidade\", \"Secretário Municipal de Desenvolvimento e Urbanismo\", \"Secretário Municipal de Ordem Pública\", \"Secretário Municipal de Comunicação\", \"Secretário-Geral de Articulação Comunitária e Prefeituras-Bairro\", \"Controlador-Geral do Município\"],\n",
      "    \"Organization\": [\"Prefeitura Municipal de Salvador\", \"Tribunal de Contas dos Município-TCM do Estado da Bahia\"],\n",
      "    \"Location\": [\"Salvador\"],\n",
      "    \"Date\": [\"19 de março de 2020\", \"período da pandemia\"],\n",
      "    \"Money\": [\"verba própria do orçamento vigente\"]\n",
      "    # ... outras entidades conforme necessário\n",
      "}\n",
      "```\n"
     ]
    }
   ],
   "source": [
    "ner = Ner(model = 'maritalk')\n",
    "all_topics[gazette][page]['ner_mari'] = ner.extract_entities_maritalk(all_topics[gazette][page]['text'])\n",
    "print(all_topics[gazette][page]['ner_mari'])"
   ]
  },
  {
   "cell_type": "markdown",
   "metadata": {},
   "source": [
    "### Sentiment"
   ]
  },
  {
   "cell_type": "code",
   "execution_count": 12,
   "metadata": {},
   "outputs": [
    {
     "name": "stdout",
     "output_type": "stream",
     "text": [
      "  Negativo.\n"
     ]
    }
   ],
   "source": [
    "sentiment = Sentiment(model = 'maritalk')\n",
    "all_topics[gazette][page]['sentiment_mari'] = sentiment.sentiment_analyze_maritalk(all_topics[gazette][page]['text'])\n",
    "print(all_topics[gazette][page]['sentiment_mari'])"
   ]
  },
  {
   "cell_type": "markdown",
   "metadata": {},
   "source": [
    "### Summarizer"
   ]
  },
  {
   "cell_type": "code",
   "execution_count": 14,
   "metadata": {},
   "outputs": [
    {
     "name": "stdout",
     "output_type": "stream",
     "text": [
      " Resumo:\n",
      "A Lei Municipal no 7.6114 institui medidas temporárias e excepcionais para o enfrentamento da pandemia de COVID-19. O Artigo 13 determina que ações de colaboração e fomento, acordos de cooperação, termos de parceria, contratos de repasse, contratos de gestão e convênios com vencimento a partir de 19 de março de 2020 podem ser prorrogados por até 3 meses após o fim da emergência, mantendo-se as condições originais e seguindo procedimentos legais. O Artigo 14 autoriza o estabelecimento de regras excepcionais para a prestação de contas desses ajustes, desde que relacionadas à pandemia e em conformidade com a legislação vigente.\n",
      "\n",
      "O Capítulo V institui o Comitê de Integração Institucional, com a finalidade de centralizar decisões, integrar e alinhar ações governamentais de enfrentamento da pandemia, prevenir, dar assistência à população e minimizar impactos da emergência e do estado de calamidade pública. O Comitê é composto por diversas autoridades, incluindo o Prefeito, Vice-Prefeito e outros Secretários Municipais, com direito a voz convidados em circunstâncias específicas. O Presidente do Comitê pode requisitar informações e estudos, e o Comitê conta com o apoio do Centro de Coordenação de Operações para acompanhar e avaliar as providências, articular ações e monitorar situações.\n",
      "\n",
      "O Artigo 18 estabelece a composição do Centro de Coordenação de Operações, que inclui membros como o Secretário de Promoção Social e Combate à Pobreza (coordenador), Vice-Prefeito e outros Secretários, além de possibilitar a convocação de outros agentes e representantes de entidades privadas conforme a necessidade.\n",
      "\n",
      "\n"
     ]
    }
   ],
   "source": [
    "summarizer = Summarizer()\n",
    "all_topics[gazette][page]['resumo'] = summarizer.summary(all_topics[gazette][page]['text'])\n",
    "print(all_topics[gazette][page]['resumo'])"
   ]
  },
  {
   "cell_type": "markdown",
   "metadata": {},
   "source": [
    "#### Este foi pensado para ser usado em licitações"
   ]
  },
  {
   "cell_type": "code",
   "execution_count": 15,
   "metadata": {},
   "outputs": [
    {
     "name": "stdout",
     "output_type": "stream",
     "text": [
      "  ```python\n",
      "{\n",
      "    \"Licitação 1\": {\n",
      "        \"Empresa\": \"Prefeitura Municipal de Salvador\",\n",
      "        \"Valor\": \"Valor não mencionado\",\n",
      "        \"Objetivos\": \"Coordenar e acompanhar de perto a efetivação das providências a cargo da Prefeitura Municipal no enfrentamento do Covid-19\"\n",
      "    },\n",
      "    \"Licitação 2\": {\n",
      "        \"Empresa\": \"Centro de Coordenação de Operações\",\n",
      "        \"Valor\": \"Valor não mencionado\",\n",
      "        \"Objetivos\": \"Articulação, com entes públicos e privados, ações adequadas e avaliar seus respectivos impactos\"\n",
      "    }\n",
      "}\n",
      "```\n"
     ]
    }
   ],
   "source": [
    "summarizer = Summarizer()\n",
    "all_topics[gazette][page]['licitaçãoInfo'] = summarizer.extract_info(all_topics[gazette][page]['text'])\n",
    "print(all_topics[gazette][page]['licitaçãoInfo'])"
   ]
  }
 ],
 "metadata": {
  "kernelspec": {
   "display_name": "Python 3",
   "language": "python",
   "name": "python3"
  },
  "language_info": {
   "codemirror_mode": {
    "name": "ipython",
    "version": 3
   },
   "file_extension": ".py",
   "mimetype": "text/x-python",
   "name": "python",
   "nbconvert_exporter": "python",
   "pygments_lexer": "ipython3",
   "version": "3.12.2"
  }
 },
 "nbformat": 4,
 "nbformat_minor": 2
}
