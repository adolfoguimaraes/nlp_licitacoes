{
 "cells": [
  {
   "attachments": {},
   "cell_type": "markdown",
   "metadata": {},
   "source": [
    "# Análise dos Tópicos \n",
    "\n",
    "Esse notebook possui os códigos para a análise dos tópicos extraídos dos diários oficiais. "
   ]
  },
  {
   "attachments": {},
   "cell_type": "markdown",
   "metadata": {},
   "source": [
    "## Imports Necessários"
   ]
  },
  {
   "cell_type": "code",
   "execution_count": 55,
   "metadata": {},
   "outputs": [],
   "source": [
    "# !pip install bertopic"
   ]
  },
  {
   "cell_type": "code",
   "execution_count": 56,
   "metadata": {},
   "outputs": [],
   "source": [
    "# Código para poder usar os módulos implementados nesse repositório no notebook \n",
    "import sys, os\n",
    "path_module = os.path.abspath('../modules/')\n",
    "if path_module not in sys.path:\n",
    "    sys.path.append(path_module)"
   ]
  },
  {
   "cell_type": "code",
   "execution_count": 57,
   "metadata": {},
   "outputs": [],
   "source": [
    "# imports do projeto\n",
    "\n",
    "from utils.process_gazette import ProcessGazette\n",
    "from preprocess.pre_process_text import PreProcessText\n"
   ]
  },
  {
   "cell_type": "code",
   "execution_count": 58,
   "metadata": {},
   "outputs": [],
   "source": [
    "from nlp.extract_topics import ExtractTopics"
   ]
  },
  {
   "attachments": {},
   "cell_type": "markdown",
   "metadata": {},
   "source": [
    "## Extração e análise dos tópicos do Diário Teste"
   ]
  },
  {
   "cell_type": "code",
   "execution_count": 59,
   "metadata": {},
   "outputs": [],
   "source": [
    "pp = PreProcessText(\"pt_core_news_lg\")"
   ]
  },
  {
   "cell_type": "code",
   "execution_count": 60,
   "metadata": {},
   "outputs": [],
   "source": [
    "pg = ProcessGazette(BASE_DIR=\"gazettes/\")\n",
    "all_pages = pg.break_pages(\"2927408_20231019_0.txt\",\"ANO [X|V|I]+ \")"
   ]
  },
  {
   "cell_type": "code",
   "execution_count": 61,
   "metadata": {},
   "outputs": [],
   "source": [
    "topics_ = {}\n",
    "for page, text in all_pages.items():\n",
    "    topics_[page] = {'text': text, 'topics': []}"
   ]
  },
  {
   "cell_type": "code",
   "execution_count": 62,
   "metadata": {},
   "outputs": [],
   "source": [
    "tokens_ = pp.process_text(topics_[1]['text'])"
   ]
  },
  {
   "cell_type": "code",
   "execution_count": 63,
   "metadata": {},
   "outputs": [
    {
     "data": {
      "text/plain": [
       "['Executivo',\n",
       " 'decreto',\n",
       " 'financeiro',\n",
       " 'controladoria',\n",
       " 'municipio',\n",
       " 'Secretaria',\n",
       " 'Municipal',\n",
       " 'fazenda',\n",
       " 'Municipal',\n",
       " 'tributo',\n",
       " 'secretaria',\n",
       " 'Municipal',\n",
       " 'gestao',\n",
       " 'Secretaria',\n",
       " 'Municipal',\n",
       " 'educacao',\n",
       " 'Secretaria',\n",
       " 'Municipal',\n",
       " 'Secretaria',\n",
       " 'Municipal',\n",
       " 'promocao',\n",
       " 'social',\n",
       " 'combater',\n",
       " 'pobreza',\n",
       " 'esporte',\n",
       " 'Secretaria',\n",
       " 'Municipal',\n",
       " 'mobilidade',\n",
       " 'superintendencia',\n",
       " 'transito',\n",
       " 'salvador',\n",
       " 'Transalvador',\n",
       " 'secretaria',\n",
       " 'Municipal',\n",
       " 'publico',\n",
       " 'Secretaria',\n",
       " 'Municipal',\n",
       " 'inovacao',\n",
       " 'tecnologia',\n",
       " 'comite',\n",
       " 'Municipal',\n",
       " 'tecnologia',\n",
       " 'informacao',\n",
       " 'comunicacao',\n",
       " 'licitacao',\n",
       " 'Secretaria',\n",
       " 'Municipal',\n",
       " 'gestao',\n",
       " 'Secretaria',\n",
       " 'Municipal',\n",
       " 'educacao',\n",
       " 'Secretaria',\n",
       " 'Municipal',\n",
       " 'Secretaria',\n",
       " 'Municipal',\n",
       " 'mobilidade',\n",
       " 'superintendencia',\n",
       " 'transito',\n",
       " 'salvador',\n",
       " 'Transalvador',\n",
       " 'secretaria',\n",
       " 'Municipal',\n",
       " 'manutencao',\n",
       " 'cidade',\n",
       " 'companhia',\n",
       " 'desenvolvimento',\n",
       " 'urbano',\n",
       " 'salvador',\n",
       " 'contrato',\n",
       " 'Secretaria',\n",
       " 'Municipal',\n",
       " 'gestao',\n",
       " 'Secretaria',\n",
       " 'Municipal',\n",
       " 'educacao',\n",
       " 'Secretaria',\n",
       " 'Municipal',\n",
       " 'Secretaria',\n",
       " 'Municipal',\n",
       " 'promocao',\n",
       " 'social',\n",
       " 'combater',\n",
       " 'pobreza',\n",
       " 'esporte',\n",
       " 'Secretaria',\n",
       " 'Municipal',\n",
       " 'politica',\n",
       " 'mulher',\n",
       " 'infancia',\n",
       " 'juventude',\n",
       " 'Secretaria',\n",
       " 'Municipal',\n",
       " 'cultura',\n",
       " 'turismo',\n",
       " 'secult',\n",
       " 'fundacao',\n",
       " 'gregorio',\n",
       " 'Mattos',\n",
       " 'secretaria',\n",
       " 'Municipal',\n",
       " 'mobilidade',\n",
       " 'superintendencia',\n",
       " 'transito',\n",
       " 'salvador',\n",
       " 'Transalvador',\n",
       " 'secretaria',\n",
       " 'Municipal',\n",
       " 'publico',\n",
       " 'empresa',\n",
       " 'limpeza',\n",
       " 'urbano',\n",
       " 'salvador',\n",
       " 'limpurb',\n",
       " 'secretaria',\n",
       " 'Municipal',\n",
       " 'inovacao',\n",
       " 'tecnologia',\n",
       " 'companhia',\n",
       " 'governanca',\n",
       " 'eletronico',\n",
       " 'salvador',\n",
       " 'secretaria',\n",
       " 'Municipal',\n",
       " 'sustentabilidade',\n",
       " 'resiliencia',\n",
       " 'bem-estar',\n",
       " 'protecao',\n",
       " 'animal',\n",
       " 'defesa',\n",
       " 'salvador',\n",
       " 'codesal',\n",
       " 'secretaria',\n",
       " 'Municipal',\n",
       " 'manutencao',\n",
       " 'cidade',\n",
       " 'companhia',\n",
       " 'desenvolvimento',\n",
       " 'urbano',\n",
       " 'salvador',\n",
       " 'convenio',\n",
       " 'Secretaria',\n",
       " 'Municipal',\n",
       " 'edital',\n",
       " 'Secretaria',\n",
       " 'Municipal',\n",
       " 'fazenda',\n",
       " 'Secretaria',\n",
       " 'Municipal',\n",
       " 'Secretaria',\n",
       " 'Municipal',\n",
       " 'cultura',\n",
       " 'turismo',\n",
       " 'secult',\n",
       " 'fundacao',\n",
       " 'gregorio',\n",
       " 'Mattos',\n",
       " 'secretaria',\n",
       " 'Municipal',\n",
       " 'mobilidade',\n",
       " 'diverso',\n",
       " 'publicacao',\n",
       " 'diario',\n",
       " 'oficial',\n",
       " 'salvador-bahia',\n",
       " 'quinta-feira',\n",
       " 'outubro']"
      ]
     },
     "execution_count": 63,
     "metadata": {},
     "output_type": "execute_result"
    }
   ],
   "source": [
    "tokens_"
   ]
  },
  {
   "cell_type": "code",
   "execution_count": 64,
   "metadata": {},
   "outputs": [],
   "source": [
    "extractor = ExtractTopics()"
   ]
  },
  {
   "cell_type": "code",
   "execution_count": 66,
   "metadata": {},
   "outputs": [
    {
     "ename": "AttributeError",
     "evalue": "'PreProcessText' object has no attribute 'texto'",
     "output_type": "error",
     "traceback": [
      "\u001b[1;31m---------------------------------------------------------------------------\u001b[0m",
      "\u001b[1;31mAttributeError\u001b[0m                            Traceback (most recent call last)",
      "\u001b[1;32mc:\\Users\\Nitro 5\\Documents\\GitHub\\nlp_licitacoes\\notebooks\\TopicAnalysis.ipynb Cell 14\u001b[0m line \u001b[0;36m<cell line: 1>\u001b[1;34m()\u001b[0m\n\u001b[1;32m----> <a href='vscode-notebook-cell:/c%3A/Users/Nitro%205/Documents/GitHub/nlp_licitacoes/notebooks/TopicAnalysis.ipynb#X16sZmlsZQ%3D%3D?line=0'>1</a>\u001b[0m extractor\u001b[39m.\u001b[39mextract_topics(pp\u001b[39m.\u001b[39;49mtexto)\n",
      "\u001b[1;31mAttributeError\u001b[0m: 'PreProcessText' object has no attribute 'texto'"
     ]
    }
   ],
   "source": [
    "extractor.extract_topics(tokens_)"
   ]
  },
  {
   "cell_type": "code",
   "execution_count": null,
   "metadata": {},
   "outputs": [],
   "source": []
  }
 ],
 "metadata": {
  "kernelspec": {
   "display_name": "nlp_licitacoes",
   "language": "python",
   "name": "python3"
  },
  "language_info": {
   "codemirror_mode": {
    "name": "ipython",
    "version": 3
   },
   "file_extension": ".py",
   "mimetype": "text/x-python",
   "name": "python",
   "nbconvert_exporter": "python",
   "pygments_lexer": "ipython3",
   "version": "3.9.13"
  },
  "orig_nbformat": 4
 },
 "nbformat": 4,
 "nbformat_minor": 2
}
