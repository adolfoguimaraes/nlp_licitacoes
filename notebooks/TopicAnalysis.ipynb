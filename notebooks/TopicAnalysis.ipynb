{
 "cells": [
  {
   "attachments": {},
   "cell_type": "markdown",
   "metadata": {},
   "source": [
    "# Análise dos Tópicos \n",
    "\n",
    "Esse notebook possui os códigos para a análise dos tópicos extraídos dos diários oficiais. "
   ]
  },
  {
   "attachments": {},
   "cell_type": "markdown",
   "metadata": {},
   "source": [
    "## Imports Necessários"
   ]
  },
  {
   "cell_type": "code",
   "execution_count": 1,
   "metadata": {},
   "outputs": [],
   "source": [
    "# Código para poder usar os módulos implementados nesse repositório no notebook \n",
    "import sys, os\n",
    "path_module = os.path.abspath('../modules/')\n",
    "if path_module not in sys.path:\n",
    "    sys.path.append(path_module)"
   ]
  },
  {
   "cell_type": "code",
   "execution_count": 2,
   "metadata": {},
   "outputs": [
    {
     "name": "stderr",
     "output_type": "stream",
     "text": [
      "c:\\Users\\erick\\AppData\\Local\\Programs\\Python\\Python312\\Lib\\site-packages\\tqdm\\auto.py:21: TqdmWarning: IProgress not found. Please update jupyter and ipywidgets. See https://ipywidgets.readthedocs.io/en/stable/user_install.html\n",
      "  from .autonotebook import tqdm as notebook_tqdm\n"
     ]
    }
   ],
   "source": [
    "# imports do projeto\n",
    "\n",
    "from utils.process_gazette import ProcessGazette\n",
    "from preprocess.pre_process_text import PreProcessText\n",
    "from nlp.extract_topics import ExtractTopics"
   ]
  },
  {
   "attachments": {},
   "cell_type": "markdown",
   "metadata": {},
   "source": [
    "## Extração e análise dos tópicos do Diário Teste"
   ]
  },
  {
   "cell_type": "code",
   "execution_count": 3,
   "metadata": {},
   "outputs": [],
   "source": [
    "pp = ProcessGazette(BASE_DIR=\"gazettes/\")\n",
    "all_pages = pp.break_pages(\"2927408_20230704_0.txt\",\"ANO [X|V|I]+ \")"
   ]
  },
  {
   "cell_type": "code",
   "execution_count": 7,
   "metadata": {},
   "outputs": [],
   "source": [
    "topics_ = {}\n",
    "ppt = PreProcessText(\"pt_core_news_lg\")\n",
    "extractor = ExtractTopics()\n",
    "\n",
    "for page, text in all_pages.items():\n",
    "    topics_[page] = {'text': text, 'topics': []}\n",
    "    tokens_ = ppt.process_text(topics_[page]['text'])\n",
    "    try:\n",
    "        if len(tokens_) > 2:\n",
    "            topics_[page]['tokens'] = tokens_\n",
    "            topics_[page]['topics'], topics_[page]['topics_info'] = extractor.extract_topics(tokens_)\n",
    "    except Exception as e:\n",
    "        print(e)\n",
    "        print(tokens_)"
   ]
  },
  {
   "cell_type": "code",
   "execution_count": 8,
   "metadata": {},
   "outputs": [
    {
     "name": "stdout",
     "output_type": "stream",
     "text": [
      "['Executivo', 'decreto', 'financeiro', 'decreto', 'simples', 'secretaria', 'governo', 'secretaria', 'Municipal', 'fazenda', 'Municipal', 'tributo', 'secretaria', 'Municipal', 'gestao', 'diretoria', 'previdencia', 'gestor', 'organizacao', 'social', 'Cogeos', 'secretaria', 'Municipal', 'educacao', 'secretaria', 'Municipal', 'politica', 'mulher', 'infancia', 'juventude', 'secretaria', 'Municipal', 'desenvolvimento', 'urbano', 'secretaria', 'Municipal', 'mobilidade', 'secretaria', 'Municipal', 'publico', 'Guarda', 'municipal', 'licitacao', 'secretaria', 'Municipal', 'cultura', 'turismo', 'secult', 'fundacao', 'gregorio', 'Mattos', 'secretaria', 'infraestrutura', 'publico', 'seinfra', 'superintendencia', 'publico', 'salvador', 'contrato', 'secretaria', 'Municipal', 'gestao', 'secretaria', 'Municipal', 'educacao', 'secretaria', 'Municipal', 'secretaria', 'Municipal', 'promocao', 'social', 'combater', 'pobreza', 'esporte', 'secretaria', 'Municipal', 'mobilidade', 'superintendencia', 'transito', 'salvador', 'Transalvador', 'secretaria', 'Municipal', 'publico', 'secretaria', 'Municipal', 'sustentabilidade', 'resiliencia', 'bem-estar', 'protecao', 'animal', 'defesa', 'salvador', 'codesal', 'secretaria', 'infraestrutura', 'publico', 'seinfra', 'superintendencia', 'publico', 'salvador', 'convenio', 'secretaria', 'governo', 'secretaria', 'Municipal', 'promocao', 'social', 'combater', 'pobreza', 'esporte', 'edital', 'secretaria', 'Municipal', 'fazenda', 'secretaria', 'Municipal', 'gestao', 'secretaria', 'Municipal', 'secretaria', 'Municipal', 'desenvolvimento', 'urbano', 'diverso', 'publicacao', 'diario', 'oficial', 'salvador-bahia', 'terca-feira']\n"
     ]
    },
    {
     "data": {
      "text/html": [
       "<div>\n",
       "<style scoped>\n",
       "    .dataframe tbody tr th:only-of-type {\n",
       "        vertical-align: middle;\n",
       "    }\n",
       "\n",
       "    .dataframe tbody tr th {\n",
       "        vertical-align: top;\n",
       "    }\n",
       "\n",
       "    .dataframe thead th {\n",
       "        text-align: right;\n",
       "    }\n",
       "</style>\n",
       "<table border=\"1\" class=\"dataframe\">\n",
       "  <thead>\n",
       "    <tr style=\"text-align: right;\">\n",
       "      <th></th>\n",
       "      <th>Topic</th>\n",
       "      <th>Count</th>\n",
       "      <th>Name</th>\n",
       "      <th>Representation</th>\n",
       "      <th>Representative_Docs</th>\n",
       "    </tr>\n",
       "  </thead>\n",
       "  <tbody>\n",
       "    <tr>\n",
       "      <th>0</th>\n",
       "      <td>-1</td>\n",
       "      <td>3</td>\n",
       "      <td>-1_decreto_transalvador__</td>\n",
       "      <td>[decreto, transalvador, , , , , , , , ]</td>\n",
       "      <td>[Transalvador, decreto, decreto]</td>\n",
       "    </tr>\n",
       "    <tr>\n",
       "      <th>1</th>\n",
       "      <td>0</td>\n",
       "      <td>26</td>\n",
       "      <td>0_secretaria_executivo_diretoria_</td>\n",
       "      <td>[secretaria, executivo, diretoria, , , , , , , ]</td>\n",
       "      <td>[secretaria, secretaria, secretaria]</td>\n",
       "    </tr>\n",
       "    <tr>\n",
       "      <th>2</th>\n",
       "      <td>1</td>\n",
       "      <td>24</td>\n",
       "      <td>1_municipal_urbano__</td>\n",
       "      <td>[municipal, urbano, , , , , , , , ]</td>\n",
       "      <td>[Municipal, Municipal, Municipal]</td>\n",
       "    </tr>\n",
       "    <tr>\n",
       "      <th>3</th>\n",
       "      <td>2</td>\n",
       "      <td>21</td>\n",
       "      <td>2_gestao_feira_terca_simples</td>\n",
       "      <td>[gestao, feira, terca, simples, secult, resili...</td>\n",
       "      <td>[gestao, gestao, gestao]</td>\n",
       "    </tr>\n",
       "    <tr>\n",
       "      <th>4</th>\n",
       "      <td>3</td>\n",
       "      <td>12</td>\n",
       "      <td>3_pobreza_fazenda_educacao_desenvolvimento</td>\n",
       "      <td>[pobreza, fazenda, educacao, desenvolvimento, ...</td>\n",
       "      <td>[educacao, pobreza, desenvolvimento]</td>\n",
       "    </tr>\n",
       "    <tr>\n",
       "      <th>5</th>\n",
       "      <td>4</td>\n",
       "      <td>10</td>\n",
       "      <td>4_publico_social_cultura_</td>\n",
       "      <td>[publico, social, cultura, , , , , , , ]</td>\n",
       "      <td>[publico, publico, publico]</td>\n",
       "    </tr>\n",
       "    <tr>\n",
       "      <th>6</th>\n",
       "      <td>5</td>\n",
       "      <td>8</td>\n",
       "      <td>5_seinfra_promocao_protecao_organizacao</td>\n",
       "      <td>[seinfra, promocao, protecao, organizacao, lic...</td>\n",
       "      <td>[seinfra, seinfra, promocao]</td>\n",
       "    </tr>\n",
       "    <tr>\n",
       "      <th>7</th>\n",
       "      <td>6</td>\n",
       "      <td>6</td>\n",
       "      <td>6_mobilidade_infraestrutura_turismo_transito</td>\n",
       "      <td>[mobilidade, infraestrutura, turismo, transito...</td>\n",
       "      <td>[mobilidade, mobilidade, infraestrutura]</td>\n",
       "    </tr>\n",
       "    <tr>\n",
       "      <th>8</th>\n",
       "      <td>7</td>\n",
       "      <td>5</td>\n",
       "      <td>7_superintendencia_convenio_contrato_</td>\n",
       "      <td>[superintendencia, convenio, contrato, , , , ,...</td>\n",
       "      <td>[superintendencia, superintendencia, superinte...</td>\n",
       "    </tr>\n",
       "    <tr>\n",
       "      <th>9</th>\n",
       "      <td>8</td>\n",
       "      <td>5</td>\n",
       "      <td>8_salvador_bahia__</td>\n",
       "      <td>[salvador, bahia, , , , , , , , ]</td>\n",
       "      <td>[salvador, salvador, salvador]</td>\n",
       "    </tr>\n",
       "    <tr>\n",
       "      <th>10</th>\n",
       "      <td>9</td>\n",
       "      <td>5</td>\n",
       "      <td>9_esporte_combater_defesa_</td>\n",
       "      <td>[esporte, combater, defesa, , , , , , , ]</td>\n",
       "      <td>[combater, combater, esporte]</td>\n",
       "    </tr>\n",
       "    <tr>\n",
       "      <th>11</th>\n",
       "      <td>10</td>\n",
       "      <td>3</td>\n",
       "      <td>10_governo_politica__</td>\n",
       "      <td>[governo, politica, , , , , , , , ]</td>\n",
       "      <td>[politica, governo, governo]</td>\n",
       "    </tr>\n",
       "    <tr>\n",
       "      <th>12</th>\n",
       "      <td>11</td>\n",
       "      <td>2</td>\n",
       "      <td>11_financeiro_codesal__</td>\n",
       "      <td>[financeiro, codesal, , , , , , , , ]</td>\n",
       "      <td>[codesal, financeiro]</td>\n",
       "    </tr>\n",
       "  </tbody>\n",
       "</table>\n",
       "</div>"
      ],
      "text/plain": [
       "    Topic  Count                                          Name  \\\n",
       "0      -1      3                     -1_decreto_transalvador__   \n",
       "1       0     26             0_secretaria_executivo_diretoria_   \n",
       "2       1     24                          1_municipal_urbano__   \n",
       "3       2     21                  2_gestao_feira_terca_simples   \n",
       "4       3     12    3_pobreza_fazenda_educacao_desenvolvimento   \n",
       "5       4     10                     4_publico_social_cultura_   \n",
       "6       5      8       5_seinfra_promocao_protecao_organizacao   \n",
       "7       6      6  6_mobilidade_infraestrutura_turismo_transito   \n",
       "8       7      5         7_superintendencia_convenio_contrato_   \n",
       "9       8      5                            8_salvador_bahia__   \n",
       "10      9      5                    9_esporte_combater_defesa_   \n",
       "11     10      3                         10_governo_politica__   \n",
       "12     11      2                       11_financeiro_codesal__   \n",
       "\n",
       "                                       Representation  \\\n",
       "0             [decreto, transalvador, , , , , , , , ]   \n",
       "1    [secretaria, executivo, diretoria, , , , , , , ]   \n",
       "2                 [municipal, urbano, , , , , , , , ]   \n",
       "3   [gestao, feira, terca, simples, secult, resili...   \n",
       "4   [pobreza, fazenda, educacao, desenvolvimento, ...   \n",
       "5            [publico, social, cultura, , , , , , , ]   \n",
       "6   [seinfra, promocao, protecao, organizacao, lic...   \n",
       "7   [mobilidade, infraestrutura, turismo, transito...   \n",
       "8   [superintendencia, convenio, contrato, , , , ,...   \n",
       "9                   [salvador, bahia, , , , , , , , ]   \n",
       "10          [esporte, combater, defesa, , , , , , , ]   \n",
       "11                [governo, politica, , , , , , , , ]   \n",
       "12              [financeiro, codesal, , , , , , , , ]   \n",
       "\n",
       "                                  Representative_Docs  \n",
       "0                    [Transalvador, decreto, decreto]  \n",
       "1                [secretaria, secretaria, secretaria]  \n",
       "2                   [Municipal, Municipal, Municipal]  \n",
       "3                            [gestao, gestao, gestao]  \n",
       "4                [educacao, pobreza, desenvolvimento]  \n",
       "5                         [publico, publico, publico]  \n",
       "6                        [seinfra, seinfra, promocao]  \n",
       "7            [mobilidade, mobilidade, infraestrutura]  \n",
       "8   [superintendencia, superintendencia, superinte...  \n",
       "9                      [salvador, salvador, salvador]  \n",
       "10                      [combater, combater, esporte]  \n",
       "11                       [politica, governo, governo]  \n",
       "12                              [codesal, financeiro]  "
      ]
     },
     "execution_count": 8,
     "metadata": {},
     "output_type": "execute_result"
    }
   ],
   "source": [
    "print(topics_[1]['tokens'])\n",
    "topics_[1]['topics_info']"
   ]
  }
 ],
 "metadata": {
  "kernelspec": {
   "display_name": "nlp_licitacoes",
   "language": "python",
   "name": "python3"
  },
  "language_info": {
   "codemirror_mode": {
    "name": "ipython",
    "version": 3
   },
   "file_extension": ".py",
   "mimetype": "text/x-python",
   "name": "python",
   "nbconvert_exporter": "python",
   "pygments_lexer": "ipython3",
   "version": "3.12.2"
  },
  "orig_nbformat": 4
 },
 "nbformat": 4,
 "nbformat_minor": 2
}
