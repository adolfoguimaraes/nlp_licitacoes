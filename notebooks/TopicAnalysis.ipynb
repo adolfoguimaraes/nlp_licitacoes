{
 "cells": [
  {
   "attachments": {},
   "cell_type": "markdown",
   "metadata": {},
   "source": [
    "# Análise dos Tópicos \n",
    "\n",
    "Esse notebook possui os códigos para a análise dos tópicos extraídos dos diários oficiais. "
   ]
  },
  {
   "attachments": {},
   "cell_type": "markdown",
   "metadata": {},
   "source": [
    "## Imports Necessários"
   ]
  },
  {
   "cell_type": "code",
   "execution_count": 1,
   "metadata": {},
   "outputs": [],
   "source": [
    "# Código para poder usar os módulos implementados nesse repositório no notebook \n",
    "import sys, os\n",
    "path_module = os.path.abspath('../modules/')\n",
    "if path_module not in sys.path:\n",
    "    sys.path.append(path_module)"
   ]
  },
  {
   "cell_type": "code",
   "execution_count": 2,
   "metadata": {},
   "outputs": [],
   "source": [
    "# imports do projeto\n",
    "\n",
    "from utils.process_gazette import ProcessGazette\n",
    "from preprocess.pre_process_text import PreProcessText\n",
    "from nlp.extract_topics import ExtractTopics"
   ]
  },
  {
   "attachments": {},
   "cell_type": "markdown",
   "metadata": {},
   "source": [
    "## Extração e análise dos tópicos do Diário Teste"
   ]
  },
  {
   "cell_type": "markdown",
   "metadata": {},
   "source": [
    "### Ao iterar por todas gazetas em busca dos termos: Aquisições Diretas, Contratações Emergenciais e Dispensas de Licitação, temos como resultado a seguinte lista."
   ]
  },
  {
   "cell_type": "code",
   "execution_count": 19,
   "metadata": {},
   "outputs": [],
   "source": [
    "pp = ProcessGazette(BASE_DIR=\"gazettes/\")\n",
    "txt_files = [f for f in os.listdir(\"gazettes/\") if f.endswith('.txt')]\n",
    "all_pages = []\n",
    "all_pages_name = []\n",
    "for txt_file in txt_files:\n",
    "    pages = pp.break_pages(txt_file, \"ANO [X|V|I]+ \", save_file=True)\n",
    "    all_pages.append(pages)\n",
    "    all_pages_name.append(txt_file)"
   ]
  },
  {
   "cell_type": "code",
   "execution_count": 31,
   "metadata": {},
   "outputs": [],
   "source": [
    "all_topics = {}\n",
    "topics_ = {}\n",
    "ppt = PreProcessText(\"pt_core_news_lg\")\n",
    "\n",
    "for gazette in range(len(all_pages)):\n",
    "    all_topics[gazette] = {}\n",
    "\n",
    "    for page, text in all_pages[gazette].items():\n",
    "        topics_[page] = {'text': text, 'topics': []}\n",
    "        tokens_ = ppt.process_text(topics_[page]['text'])\n",
    "        for token in tokens_:\n",
    "            if len(tokens_) > 5 and page and token in ['aquisicao', 'contratacao', 'emergencial', 'dispensa', 'licitacao']:\n",
    "                topics_[page]['tokens'] = tokens_\n",
    "                all_topics[gazette][page] = topics_[page]"
   ]
  },
  {
   "cell_type": "code",
   "execution_count": 32,
   "metadata": {},
   "outputs": [
    {
     "name": "stdout",
     "output_type": "stream",
     "text": [
      "2927408_20200306_3.txt: [1, 8, 9, 11, 12, 13, 14, 15, 16, 17, 18, 19, 21, 23]\n",
      "2927408_20200316_7.txt: []\n",
      "2927408_20200318_0.txt: [1, 33, 34, 35, 36, 42, 43, 44, 46, 47, 48, 72, 73, 74, 75]\n",
      "2927408_20200320_2.txt: [1, 2, 3]\n",
      "2927408_20200324_1.txt: []\n",
      "2927408_20200408_9.txt: [1, 4, 5, 6, 7, 8, 11, 12]\n",
      "2927408_20200414_6.txt: [1, 7, 8, 9, 12, 13, 14, 18]\n",
      "2927408_20200418_5.txt: [1, 4, 5, 6, 7, 8, 9, 10]\n",
      "2927408_20200423_4.txt: [1, 42, 43, 44, 45, 46, 47, 48, 49, 50, 51, 52, 53]\n",
      "2927408_20200429_8.txt: [1, 7, 17, 18, 19, 20, 22, 24]\n",
      "2927408_20230704_0.txt: [1, 28, 29, 32, 33, 34]\n"
     ]
    }
   ],
   "source": [
    "for i in range(0,11):\n",
    "    print(f\"{all_pages_name[i]}: {list(all_topics[i].keys())}\")"
   ]
  },
  {
   "cell_type": "code",
   "execution_count": 30,
   "metadata": {},
   "outputs": [
    {
     "name": "stdout",
     "output_type": "stream",
     "text": [
      "2927408_20200306_3.txt: [1, 8, 9, 11, 12, 13, 14, 15, 16, 17, 18, 19, 21, 23]\n",
      "2927408_20200316_7.txt: [2]\n",
      "2927408_20200318_0.txt: [1, 5, 33, 34, 35, 36, 42, 43, 44, 46, 47, 48, 72, 73, 74, 75, 78]\n",
      "2927408_20200320_2.txt: [1, 2, 3]\n",
      "2927408_20200324_1.txt: []\n",
      "2927408_20200408_9.txt: [1, 3, 4, 5, 6, 7, 8, 11, 12]\n",
      "2927408_20200414_6.txt: [1, 7, 8, 9, 12, 13, 14, 18]\n",
      "2927408_20200418_5.txt: [1, 4, 5, 6, 7, 8, 9, 10]\n",
      "2927408_20200423_4.txt: [1, 4, 42, 43, 44, 45, 46, 47, 48, 49, 50, 51, 52, 53]\n",
      "2927408_20200429_8.txt: [1, 4, 5, 6, 7, 17, 18, 19, 20, 22, 24]\n",
      "2927408_20230704_0.txt: [1, 28, 29, 32, 33, 34]\n"
     ]
    }
   ],
   "source": [
    "for i in range(0,11):\n",
    "    print(f\"{all_pages_name[i]}: {list(all_topics[i].keys())}\")"
   ]
  },
  {
   "cell_type": "markdown",
   "metadata": {},
   "source": [
    "### Extraindo de uma unica gazeta"
   ]
  },
  {
   "cell_type": "code",
   "execution_count": 11,
   "metadata": {},
   "outputs": [],
   "source": [
    "pp = ProcessGazette(BASE_DIR=\"gazettes/\")\n",
    "all_pages = pp.break_pages(\"2927408_20200318_0.txt\",\"ANO [X|V|I]+ \")"
   ]
  },
  {
   "cell_type": "code",
   "execution_count": 12,
   "metadata": {},
   "outputs": [],
   "source": [
    "topics_ = {}\n",
    "ppt = PreProcessText(\"pt_core_news_lg\")\n",
    "\n",
    "for page, text in all_pages.items():\n",
    "    extractor = ExtractTopics(model = 'default')#to gpt install openai\n",
    "    topics_[page] = {'text': text, 'topics': []}\n",
    "    tokens_ = ppt.process_text(topics_[page]['text'])   \n",
    "    try:\n",
    "        if len(tokens_) > 5 and page:\n",
    "            topics_[page]['tokens'] = tokens_\n",
    "            topics_[page]['topics'], topics_[page]['topics_info'] = extractor.extract_topics(topics_[page]['tokens'])\n",
    "            topics_[page]['similarity'] = extractor.find_topics('Licitação')\n",
    "    except Exception as e:\n",
    "        print(page)\n",
    "        print(tokens_)\n",
    "        print(topics_[page]['text'])\n",
    "        print(topics_[page]['tokens'])\n",
    "        print(f\"Error: {e}\")"
   ]
  },
  {
   "cell_type": "code",
   "execution_count": 15,
   "metadata": {},
   "outputs": [
    {
     "name": "stdout",
     "output_type": "stream",
     "text": [
      "[5, -1, 1]\n",
      "[('resultado', 0.24751318496457658), ('relator', 0.24751318496457658), ('processo', 0.24751318496457658), ('solicitante', 0.24751318496457658), ('dantas', 0.24751318496457658), ('comerciar', 0.24751318496457658), ('portellar', 0.15767011966073635), ('oficial', 0.15767011966073635), ('hildebrar', 0.15767011966073635), ('funsaude', 0.15767011966073635)]\n"
     ]
    }
   ],
   "source": [
    "print(topics_[30]['similarity'])\n",
    "print(topics_[30]['topics'][5])"
   ]
  },
  {
   "cell_type": "markdown",
   "metadata": {},
   "source": [
    "### Extraindo de multiplas gazetas"
   ]
  },
  {
   "cell_type": "code",
   "execution_count": 3,
   "metadata": {},
   "outputs": [],
   "source": [
    "pp = ProcessGazette(BASE_DIR=\"gazettes/\")\n",
    "txt_files = [f for f in os.listdir(\"gazettes/\") if f.endswith('.txt')]\n",
    "all_pages = []\n",
    "for txt_file in txt_files:\n",
    "    pages = pp.break_pages(txt_file, \"ANO [X|V|I]+ \", save_file=True)\n",
    "    all_pages.append(pages)"
   ]
  },
  {
   "cell_type": "code",
   "execution_count": 4,
   "metadata": {},
   "outputs": [
    {
     "name": "stderr",
     "output_type": "stream",
     "text": [
      "c:\\Users\\erick\\AppData\\Local\\Programs\\Python\\Python312\\Lib\\site-packages\\tqdm\\auto.py:21: TqdmWarning: IProgress not found. Please update jupyter and ipywidgets. See https://ipywidgets.readthedocs.io/en/stable/user_install.html\n",
      "  from .autonotebook import tqdm as notebook_tqdm\n"
     ]
    }
   ],
   "source": [
    "all_topics = {}\n",
    "topics_ = {}\n",
    "ppt = PreProcessText(\"pt_core_news_lg\")\n",
    "for gazette in range(len(all_pages)):\n",
    "    all_topics[gazette] = {}\n",
    "    for page, text in all_pages[gazette].items():\n",
    "        extractor = ExtractTopics(model = 'default')\n",
    "        topics_[page] = {'text': text, 'topics': []}\n",
    "        tokens_ = ppt.process_text(topics_[page]['text'])\n",
    "        try:\n",
    "            if len(tokens_) > 5 and page:\n",
    "                topics_[page]['tokens'] = tokens_\n",
    "                topics_[page]['topics'], topics_[page]['topics_info'] = extractor.extract_topics(topics_[page]['tokens'])\n",
    "                all_topics[gazette][page] = topics_[page]\n",
    "        except Exception as e:\n",
    "            print(page)\n",
    "            print(tokens_)\n",
    "            print(topics_[page]['text'])\n",
    "            print(topics_[page]['tokens'])\n",
    "            print(f\"Error: {e}\")\n"
   ]
  },
  {
   "cell_type": "code",
   "execution_count": 10,
   "metadata": {},
   "outputs": [
    {
     "data": {
      "text/plain": [
       "'| N º 7.5942  DIÁRIO OFICIAL DO  Criado pelo art. 82 da Lei nº 3.601, de 18 de fevereiro de 1986  Ouvidoria Geral do Município - Para registrar reclamações, denúncias,  sugestões ou elogios, acesse: www.ouvidoria.salvador.ba.gov.br ou ligue para  (71) 3202-5909, de segunda a sexta-feira, das 8 às 17 horas, exceto feriados.  Disque Salvador - Para solicitar serviços ou informação,  acesse: www.disquesalvador.ba.gov.br ou ligue 156,  atendimento 24h.  Diário Oficial do Município - Edições Anteriores, acesse: www.dom.salvador. ba.gov.br ou solicite através do e-mail: diario.oficial@salvador.ba.gov.br, de  segunda a sexta-feira, das 8 às 18 horas, exceto feriados.  CEP: 40.020-000 - Tel.: 3202-6261/6262  Chefe de Gabinete do Prefeito Coordenador de Tecnologia  Claudio Raphael Pereira Pinto  3  Kaio Vinicius Moraes Leal  Órgão responsável  Andrey Das Neves Santos  Gestor de Editoração  I- Academias de Ginástica;  II- Cinemas;  III- Teatros e demais Casas de Espetáculos; e  IV-  Parques Infantis privados.  Parágrafo único. O não cumprimento das medidas   estabelecidas no presente Decreto será caracterizado como infração   à legislação municipal e sujeitará o infrator às penalidades e   sanções aplicáveis, inclusive, no que couber, cassação de licença de   funcionamento.  Suspensão das Atividades de Classe da Rede   Municipal de Educação e da Rede Privada de Ensino   Art. 6º Fica suspenso, pelo prazo de 15 (quinze) dias   corridos, as atividades de classe:  I - de todas as unidades escolares integrantes da Rede  Municipal de Educação;  II -  de todos os estabelecimentos da Rede Privada de Ensino  licenciados pela Prefeitura Municipal de Salvador.  Parágrafo único. O não cumprimento das medidas estabelecidas no   presente Decreto será caracterizado como infração à legislação municipal e sujeitará   o infrator às penalidades e sanções aplicáveis, inclusive, no que couber, cassação de   licença de funcionamento.  Notificação Compulsória  Art. 7º Os laboratórios públicos ou privados que descumprirem   o quanto disposto no art. 6º, do Decreto Municipal 32.248, de 14 de março de 2020   incorrerão em infração à legislação municipal e estarão sujeitos às penalidades e   sanções aplicáveis, inclusive, no que couber, cassação de licença de funcionamento.  Disposições finais  Art. 8º Caberá aos Secretários e Dirigentes dos órgãos e entidades   integrantes da Administração Pública Municipal Direta e Indireta assegurar a   preservação e funcionamento dos serviços considerados essenciais ou estratégicos.  Art. 9º Este Decreto entra em vigor na data de sua publicação,   produzindo efeitos jurídicos a partir de 18 de março de 2020, exceto em relação do   disposto no art. 7º, cujos efeitos jurídicos são imediatos.  GABINETE DO PREFEITO MUNICIPAL DO SALVADOR, em 16 de março   de 2020.  ANTONIO CARLOS PEIXOTO DE MAGALHÃES NETO  Prefeito  KAIO VINICIUS MORAES LEAL Chefe de Gabinete do Prefeito  LUIZ ANTÔNIO VASCONCELLOS CARREIRA Chefe da Casa Civil  THIAGO MARTINS DANTAS  Secretário Municipal de Gestão  PAULO GANEM SOUTO Secretário Municipal da Fazenda  FELIPE LUCAS DE LIMA E SILVA Secretário Municipal de Ordem Pública  BRUNO OITAVEN BARRAL Secretário Municipal da Educação  LEONARDO SILVA PRATES Secretário Municipal da Saúde  ANDRÉ MOREIRA FRAGA Secretário Municipal de Sustentabilidade, Inovação   e Resiliência  FÁBIO RIOS MOTA Secretário Municipal de Mobilidade  ANA PAULA ANDRADE MATOS MOREIRA Secretária Municipal de Promoção Social  e Combate à Pobreza, em exercício  VIRGÍLIO TEIXEIRA DALTRO Secretário Municipal de Manutenção  da Cidade  JOSÉ SERGIO DE SOUSA GUANABARA Secretário Municipal de Desenvolvimento   e Urbanismo  CLÁUDIO TINOCO MELO DE OLIVEIRA  Secretário Municipal de Cultura e Turismo  ALBERTO MAGALHÃES PIMENTEL JÚNIOR Secretário Municipal do Trabalho, Esportes   e Lazer  BRUNO SOARES REIS Secretário Municipal de Infraestrutura e   Obras Públicas, em exercício  JOSÉ PACHECO MAIA FILHO Secretário Municipal de Comunicação  IVETE ALVES DO SACRAMENTO Secretária Municipal da Reparação  ROGÉRIA DE ALMEIDA PEREIRA DO SANTOS  Secretária Municipal de Políticas para   As Mulheres, Infância e Juventude  MARIA RITA GÓES GARRIDO Controladora Geral do Município   \\t\\thttp://www.dom.salvador.ba.gov.br/ \\t2020-03-16T18:06:00-0300 \\tSalvador, Bahia, Brasil \\tANDREY DAS NEVES SANTOS:04996024550 \\tO Gabinete do Prefeito garante a autenticidade deste documento quando visualizado diretamente no portal www.salvador.ba.gov.br     '"
      ]
     },
     "execution_count": 10,
     "metadata": {},
     "output_type": "execute_result"
    }
   ],
   "source": [
    "gazeta = 1\n",
    "pg = 2\n",
    "all_topics[gazeta][pg]['text']"
   ]
  }
 ],
 "metadata": {
  "kernelspec": {
   "display_name": "nlp_licitacoes",
   "language": "python",
   "name": "python3"
  },
  "language_info": {
   "codemirror_mode": {
    "name": "ipython",
    "version": 3
   },
   "file_extension": ".py",
   "mimetype": "text/x-python",
   "name": "python",
   "nbconvert_exporter": "python",
   "pygments_lexer": "ipython3",
   "version": "3.12.2"
  },
  "orig_nbformat": 4
 },
 "nbformat": 4,
 "nbformat_minor": 2
}
