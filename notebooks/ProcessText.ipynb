{
 "cells": [
  {
   "attachments": {},
   "cell_type": "markdown",
   "metadata": {},
   "source": [
    "# Processamento do Texto\n",
    "\n",
    "Esse notebook as funções para fazer o pré-processamento dos textos do diários com foco em extrair uma representação textual dos textos, extração dos termos mais frequentes e análise de similaridade dos textos. "
   ]
  },
  {
   "attachments": {},
   "cell_type": "markdown",
   "metadata": {},
   "source": [
    "## Imports Necessários"
   ]
  },
  {
   "cell_type": "code",
   "execution_count": 61,
   "metadata": {},
   "outputs": [
    {
     "name": "stdout",
     "output_type": "stream",
     "text": [
      "Requirement already satisfied: spacy in d:\\nitro 5\\downloads\\conda\\envs\\myenv\\lib\\site-packages (3.5.4)\n",
      "Requirement already satisfied: pydantic!=1.8,!=1.8.1,<1.11.0,>=1.7.4 in d:\\nitro 5\\downloads\\conda\\envs\\myenv\\lib\\site-packages (from spacy) (1.10.11)\n",
      "Requirement already satisfied: setuptools in d:\\nitro 5\\downloads\\conda\\envs\\myenv\\lib\\site-packages (from spacy) (63.4.1)\n",
      "Requirement already satisfied: wasabi<1.2.0,>=0.9.1 in d:\\nitro 5\\downloads\\conda\\envs\\myenv\\lib\\site-packages (from spacy) (1.1.2)\n",
      "Requirement already satisfied: pathy>=0.10.0 in d:\\nitro 5\\downloads\\conda\\envs\\myenv\\lib\\site-packages (from spacy) (0.10.2)\n",
      "Requirement already satisfied: spacy-loggers<2.0.0,>=1.0.0 in d:\\nitro 5\\downloads\\conda\\envs\\myenv\\lib\\site-packages (from spacy) (1.0.4)\n",
      "Requirement already satisfied: murmurhash<1.1.0,>=0.28.0 in d:\\nitro 5\\downloads\\conda\\envs\\myenv\\lib\\site-packages (from spacy) (1.0.9)\n",
      "Requirement already satisfied: cymem<2.1.0,>=2.0.2 in d:\\nitro 5\\downloads\\conda\\envs\\myenv\\lib\\site-packages (from spacy) (2.0.7)\n",
      "Requirement already satisfied: tqdm<5.0.0,>=4.38.0 in d:\\nitro 5\\downloads\\conda\\envs\\myenv\\lib\\site-packages (from spacy) (4.65.0)\n",
      "Requirement already satisfied: requests<3.0.0,>=2.13.0 in d:\\nitro 5\\downloads\\conda\\envs\\myenv\\lib\\site-packages (from spacy) (2.28.1)\n",
      "Requirement already satisfied: smart-open<7.0.0,>=5.2.1 in d:\\nitro 5\\downloads\\conda\\envs\\myenv\\lib\\site-packages (from spacy) (6.3.0)\n",
      "Requirement already satisfied: srsly<3.0.0,>=2.4.3 in d:\\nitro 5\\downloads\\conda\\envs\\myenv\\lib\\site-packages (from spacy) (2.4.6)\n",
      "Requirement already satisfied: typer<0.10.0,>=0.3.0 in d:\\nitro 5\\downloads\\conda\\envs\\myenv\\lib\\site-packages (from spacy) (0.9.0)\n",
      "Requirement already satisfied: jinja2 in d:\\nitro 5\\downloads\\conda\\envs\\myenv\\lib\\site-packages (from spacy) (3.0.3)\n",
      "Requirement already satisfied: preshed<3.1.0,>=3.0.2 in d:\\nitro 5\\downloads\\conda\\envs\\myenv\\lib\\site-packages (from spacy) (3.0.8)\n",
      "Requirement already satisfied: langcodes<4.0.0,>=3.2.0 in d:\\nitro 5\\downloads\\conda\\envs\\myenv\\lib\\site-packages (from spacy) (3.3.0)\n",
      "Requirement already satisfied: spacy-legacy<3.1.0,>=3.0.11 in d:\\nitro 5\\downloads\\conda\\envs\\myenv\\lib\\site-packages (from spacy) (3.0.12)\n",
      "Requirement already satisfied: catalogue<2.1.0,>=2.0.6 in d:\\nitro 5\\downloads\\conda\\envs\\myenv\\lib\\site-packages (from spacy) (2.0.8)\n",
      "Requirement already satisfied: thinc<8.2.0,>=8.1.8 in d:\\nitro 5\\downloads\\conda\\envs\\myenv\\lib\\site-packages (from spacy) (8.1.10)\n",
      "Requirement already satisfied: numpy>=1.15.0 in d:\\nitro 5\\downloads\\conda\\envs\\myenv\\lib\\site-packages (from spacy) (1.22.3)\n",
      "Requirement already satisfied: packaging>=20.0 in d:\\nitro 5\\downloads\\conda\\envs\\myenv\\lib\\site-packages (from spacy) (21.3)\n",
      "Requirement already satisfied: pyparsing!=3.0.5,>=2.0.2 in d:\\nitro 5\\downloads\\conda\\envs\\myenv\\lib\\site-packages (from packaging>=20.0->spacy) (3.0.9)\n",
      "Requirement already satisfied: typing-extensions>=4.2.0 in d:\\nitro 5\\downloads\\conda\\envs\\myenv\\lib\\site-packages (from pydantic!=1.8,!=1.8.1,<1.11.0,>=1.7.4->spacy) (4.3.0)\n",
      "Requirement already satisfied: certifi>=2017.4.17 in d:\\nitro 5\\downloads\\conda\\envs\\myenv\\lib\\site-packages (from requests<3.0.0,>=2.13.0->spacy) (2022.6.15)\n",
      "Requirement already satisfied: charset-normalizer<3,>=2 in d:\\nitro 5\\downloads\\conda\\envs\\myenv\\lib\\site-packages (from requests<3.0.0,>=2.13.0->spacy) (2.0.4)\n",
      "Requirement already satisfied: urllib3<1.27,>=1.21.1 in d:\\nitro 5\\downloads\\conda\\envs\\myenv\\lib\\site-packages (from requests<3.0.0,>=2.13.0->spacy) (1.26.11)\n",
      "Requirement already satisfied: idna<4,>=2.5 in d:\\nitro 5\\downloads\\conda\\envs\\myenv\\lib\\site-packages (from requests<3.0.0,>=2.13.0->spacy) (3.3)\n",
      "Requirement already satisfied: blis<0.8.0,>=0.7.8 in d:\\nitro 5\\downloads\\conda\\envs\\myenv\\lib\\site-packages (from thinc<8.2.0,>=8.1.8->spacy) (0.7.9)\n",
      "Requirement already satisfied: confection<1.0.0,>=0.0.1 in d:\\nitro 5\\downloads\\conda\\envs\\myenv\\lib\\site-packages (from thinc<8.2.0,>=8.1.8->spacy) (0.1.0)\n",
      "Requirement already satisfied: colorama in d:\\nitro 5\\downloads\\conda\\envs\\myenv\\lib\\site-packages (from tqdm<5.0.0,>=4.38.0->spacy) (0.4.6)\n",
      "Requirement already satisfied: click<9.0.0,>=7.1.1 in d:\\nitro 5\\downloads\\conda\\envs\\myenv\\lib\\site-packages (from typer<0.10.0,>=0.3.0->spacy) (8.0.4)\n",
      "Requirement already satisfied: MarkupSafe>=2.0 in d:\\nitro 5\\downloads\\conda\\envs\\myenv\\lib\\site-packages (from jinja2->spacy) (2.1.1)\n",
      "Requirement already satisfied: unidecode in d:\\nitro 5\\downloads\\conda\\envs\\myenv\\lib\\site-packages (1.3.6)\n",
      "Collecting pt-core-news-lg==3.5.0\n",
      "  Downloading https://github.com/explosion/spacy-models/releases/download/pt_core_news_lg-3.5.0/pt_core_news_lg-3.5.0-py3-none-any.whl (568.2 MB)\n",
      "     -------------------------------------- 568.2/568.2 MB 4.5 MB/s eta 0:00:00\n",
      "Requirement already satisfied: spacy<3.6.0,>=3.5.0 in d:\\nitro 5\\downloads\\conda\\envs\\myenv\\lib\\site-packages (from pt-core-news-lg==3.5.0) (3.5.4)\n",
      "Requirement already satisfied: catalogue<2.1.0,>=2.0.6 in d:\\nitro 5\\downloads\\conda\\envs\\myenv\\lib\\site-packages (from spacy<3.6.0,>=3.5.0->pt-core-news-lg==3.5.0) (2.0.8)\n",
      "Requirement already satisfied: murmurhash<1.1.0,>=0.28.0 in d:\\nitro 5\\downloads\\conda\\envs\\myenv\\lib\\site-packages (from spacy<3.6.0,>=3.5.0->pt-core-news-lg==3.5.0) (1.0.9)\n",
      "Requirement already satisfied: cymem<2.1.0,>=2.0.2 in d:\\nitro 5\\downloads\\conda\\envs\\myenv\\lib\\site-packages (from spacy<3.6.0,>=3.5.0->pt-core-news-lg==3.5.0) (2.0.7)\n",
      "Requirement already satisfied: setuptools in d:\\nitro 5\\downloads\\conda\\envs\\myenv\\lib\\site-packages (from spacy<3.6.0,>=3.5.0->pt-core-news-lg==3.5.0) (63.4.1)\n",
      "Requirement already satisfied: thinc<8.2.0,>=8.1.8 in d:\\nitro 5\\downloads\\conda\\envs\\myenv\\lib\\site-packages (from spacy<3.6.0,>=3.5.0->pt-core-news-lg==3.5.0) (8.1.10)\n",
      "Requirement already satisfied: spacy-legacy<3.1.0,>=3.0.11 in d:\\nitro 5\\downloads\\conda\\envs\\myenv\\lib\\site-packages (from spacy<3.6.0,>=3.5.0->pt-core-news-lg==3.5.0) (3.0.12)\n",
      "Requirement already satisfied: preshed<3.1.0,>=3.0.2 in d:\\nitro 5\\downloads\\conda\\envs\\myenv\\lib\\site-packages (from spacy<3.6.0,>=3.5.0->pt-core-news-lg==3.5.0) (3.0.8)\n",
      "Requirement already satisfied: typer<0.10.0,>=0.3.0 in d:\\nitro 5\\downloads\\conda\\envs\\myenv\\lib\\site-packages (from spacy<3.6.0,>=3.5.0->pt-core-news-lg==3.5.0) (0.9.0)\n",
      "Requirement already satisfied: numpy>=1.15.0 in d:\\nitro 5\\downloads\\conda\\envs\\myenv\\lib\\site-packages (from spacy<3.6.0,>=3.5.0->pt-core-news-lg==3.5.0) (1.22.3)\n",
      "Requirement already satisfied: spacy-loggers<2.0.0,>=1.0.0 in d:\\nitro 5\\downloads\\conda\\envs\\myenv\\lib\\site-packages (from spacy<3.6.0,>=3.5.0->pt-core-news-lg==3.5.0) (1.0.4)\n",
      "Requirement already satisfied: pathy>=0.10.0 in d:\\nitro 5\\downloads\\conda\\envs\\myenv\\lib\\site-packages (from spacy<3.6.0,>=3.5.0->pt-core-news-lg==3.5.0) (0.10.2)\n",
      "Requirement already satisfied: jinja2 in d:\\nitro 5\\downloads\\conda\\envs\\myenv\\lib\\site-packages (from spacy<3.6.0,>=3.5.0->pt-core-news-lg==3.5.0) (3.0.3)\n",
      "Requirement already satisfied: srsly<3.0.0,>=2.4.3 in d:\\nitro 5\\downloads\\conda\\envs\\myenv\\lib\\site-packages (from spacy<3.6.0,>=3.5.0->pt-core-news-lg==3.5.0) (2.4.6)\n",
      "Requirement already satisfied: wasabi<1.2.0,>=0.9.1 in d:\\nitro 5\\downloads\\conda\\envs\\myenv\\lib\\site-packages (from spacy<3.6.0,>=3.5.0->pt-core-news-lg==3.5.0) (1.1.2)\n",
      "Requirement already satisfied: packaging>=20.0 in d:\\nitro 5\\downloads\\conda\\envs\\myenv\\lib\\site-packages (from spacy<3.6.0,>=3.5.0->pt-core-news-lg==3.5.0) (21.3)\n",
      "Requirement already satisfied: langcodes<4.0.0,>=3.2.0 in d:\\nitro 5\\downloads\\conda\\envs\\myenv\\lib\\site-packages (from spacy<3.6.0,>=3.5.0->pt-core-news-lg==3.5.0) (3.3.0)\n",
      "Requirement already satisfied: pydantic!=1.8,!=1.8.1,<1.11.0,>=1.7.4 in d:\\nitro 5\\downloads\\conda\\envs\\myenv\\lib\\site-packages (from spacy<3.6.0,>=3.5.0->pt-core-news-lg==3.5.0) (1.10.11)\n",
      "Requirement already satisfied: smart-open<7.0.0,>=5.2.1 in d:\\nitro 5\\downloads\\conda\\envs\\myenv\\lib\\site-packages (from spacy<3.6.0,>=3.5.0->pt-core-news-lg==3.5.0) (6.3.0)\n",
      "Requirement already satisfied: requests<3.0.0,>=2.13.0 in d:\\nitro 5\\downloads\\conda\\envs\\myenv\\lib\\site-packages (from spacy<3.6.0,>=3.5.0->pt-core-news-lg==3.5.0) (2.28.1)\n",
      "Requirement already satisfied: tqdm<5.0.0,>=4.38.0 in d:\\nitro 5\\downloads\\conda\\envs\\myenv\\lib\\site-packages (from spacy<3.6.0,>=3.5.0->pt-core-news-lg==3.5.0) (4.65.0)\n",
      "Requirement already satisfied: pyparsing!=3.0.5,>=2.0.2 in d:\\nitro 5\\downloads\\conda\\envs\\myenv\\lib\\site-packages (from packaging>=20.0->spacy<3.6.0,>=3.5.0->pt-core-news-lg==3.5.0) (3.0.9)\n",
      "Requirement already satisfied: typing-extensions>=4.2.0 in d:\\nitro 5\\downloads\\conda\\envs\\myenv\\lib\\site-packages (from pydantic!=1.8,!=1.8.1,<1.11.0,>=1.7.4->spacy<3.6.0,>=3.5.0->pt-core-news-lg==3.5.0) (4.3.0)\n",
      "Requirement already satisfied: idna<4,>=2.5 in d:\\nitro 5\\downloads\\conda\\envs\\myenv\\lib\\site-packages (from requests<3.0.0,>=2.13.0->spacy<3.6.0,>=3.5.0->pt-core-news-lg==3.5.0) (3.3)\n",
      "Requirement already satisfied: urllib3<1.27,>=1.21.1 in d:\\nitro 5\\downloads\\conda\\envs\\myenv\\lib\\site-packages (from requests<3.0.0,>=2.13.0->spacy<3.6.0,>=3.5.0->pt-core-news-lg==3.5.0) (1.26.11)\n",
      "Requirement already satisfied: certifi>=2017.4.17 in d:\\nitro 5\\downloads\\conda\\envs\\myenv\\lib\\site-packages (from requests<3.0.0,>=2.13.0->spacy<3.6.0,>=3.5.0->pt-core-news-lg==3.5.0) (2022.6.15)\n",
      "Requirement already satisfied: charset-normalizer<3,>=2 in d:\\nitro 5\\downloads\\conda\\envs\\myenv\\lib\\site-packages (from requests<3.0.0,>=2.13.0->spacy<3.6.0,>=3.5.0->pt-core-news-lg==3.5.0) (2.0.4)\n",
      "Requirement already satisfied: blis<0.8.0,>=0.7.8 in d:\\nitro 5\\downloads\\conda\\envs\\myenv\\lib\\site-packages (from thinc<8.2.0,>=8.1.8->spacy<3.6.0,>=3.5.0->pt-core-news-lg==3.5.0) (0.7.9)\n",
      "Requirement already satisfied: confection<1.0.0,>=0.0.1 in d:\\nitro 5\\downloads\\conda\\envs\\myenv\\lib\\site-packages (from thinc<8.2.0,>=8.1.8->spacy<3.6.0,>=3.5.0->pt-core-news-lg==3.5.0) (0.1.0)\n",
      "Requirement already satisfied: colorama in d:\\nitro 5\\downloads\\conda\\envs\\myenv\\lib\\site-packages (from tqdm<5.0.0,>=4.38.0->spacy<3.6.0,>=3.5.0->pt-core-news-lg==3.5.0) (0.4.6)\n",
      "Requirement already satisfied: click<9.0.0,>=7.1.1 in d:\\nitro 5\\downloads\\conda\\envs\\myenv\\lib\\site-packages (from typer<0.10.0,>=0.3.0->spacy<3.6.0,>=3.5.0->pt-core-news-lg==3.5.0) (8.0.4)\n",
      "Requirement already satisfied: MarkupSafe>=2.0 in d:\\nitro 5\\downloads\\conda\\envs\\myenv\\lib\\site-packages (from jinja2->spacy<3.6.0,>=3.5.0->pt-core-news-lg==3.5.0) (2.1.1)\n",
      "\u001b[38;5;2m✔ Download and installation successful\u001b[0m\n",
      "You can now load the package via spacy.load('pt_core_news_lg')\n"
     ]
    }
   ],
   "source": [
    "!pip install spacy\n",
    "!pip install unidecode\n",
    "!python -m spacy download pt_core_news_lg\n",
    "import numpy as np\n",
    "import matplotlib.pyplot as plt\n",
    "from sklearn.manifold import TSNE\n"
   ]
  },
  {
   "cell_type": "code",
   "execution_count": 62,
   "metadata": {},
   "outputs": [],
   "source": [
    "\n",
    "# Código para poder usar os módulos implementados nesse repositório no notebook \n",
    "import sys, os\n",
    "path_module = os.path.abspath('../modules/')\n",
    "if path_module not in sys.path:\n",
    "    sys.path.append(path_module)\n",
    "\n",
    "# import preprocess.pre_process_text as pp    "
   ]
  },
  {
   "cell_type": "code",
   "execution_count": 63,
   "metadata": {},
   "outputs": [],
   "source": [
    "# Imports para o projeto\n",
    "from sklearn.feature_extraction.text import TfidfVectorizer\n",
    "from preprocess.pre_process_text import PreProcessText\n",
    "from preprocess.plot_embeddings import PlotEmbeddings"
   ]
  },
  {
   "attachments": {},
   "cell_type": "markdown",
   "metadata": {},
   "source": [
    "## Processamento do Texto"
   ]
  },
  {
   "cell_type": "code",
   "execution_count": 64,
   "metadata": {},
   "outputs": [
    {
     "ename": "TypeError",
     "evalue": "__init__() missing 1 required positional argument: 'model'",
     "output_type": "error",
     "traceback": [
      "\u001b[1;31m---------------------------------------------------------------------------\u001b[0m",
      "\u001b[1;31mTypeError\u001b[0m                                 Traceback (most recent call last)",
      "\u001b[1;32mc:\\Users\\Nitro 5\\Documents\\GitHub\\nlp_licitacoes\\notebooks\\ProcessText.ipynb Cell 7\u001b[0m line \u001b[0;36m<cell line: 1>\u001b[1;34m()\u001b[0m\n\u001b[1;32m----> <a href='vscode-notebook-cell:/c%3A/Users/Nitro%205/Documents/GitHub/nlp_licitacoes/notebooks/ProcessText.ipynb#W6sZmlsZQ%3D%3D?line=0'>1</a>\u001b[0m pe \u001b[39m=\u001b[39m PlotEmbeddings()\n",
      "\u001b[1;31mTypeError\u001b[0m: __init__() missing 1 required positional argument: 'model'"
     ]
    }
   ],
   "source": [
    "pe = PlotEmbeddings(\"pt_core_news_lg\")"
   ]
  },
  {
   "cell_type": "code",
   "execution_count": null,
   "metadata": {},
   "outputs": [],
   "source": [
    "pp = PreProcessText(\"pt_core_news_lg\")"
   ]
  },
  {
   "cell_type": "code",
   "execution_count": null,
   "metadata": {},
   "outputs": [],
   "source": [
    "# tokens_teste = pp.process_text(\"Hoje visitei a velha estação de trem. A estação estava coberta de abandono. Porque, hoje, as pessoas parecem não dar bola para construções velhas como essa da estação de trem. Muitas pessoas só querem saber de coisas futuras. Dão bola só para coisas novas.\")"
   ]
  },
  {
   "cell_type": "code",
   "execution_count": null,
   "metadata": {},
   "outputs": [],
   "source": [
    "# texto_teste1 = ' '.join(tokens_teste)"
   ]
  },
  {
   "cell_type": "code",
   "execution_count": null,
   "metadata": {},
   "outputs": [],
   "source": [
    "# vetorizador = TfidfVectorizer()\n",
    "# print(texto_teste1)"
   ]
  },
  {
   "cell_type": "code",
   "execution_count": null,
   "metadata": {},
   "outputs": [],
   "source": [
    "# vetor_tfidf = vetorizador.fit_transform([texto_teste1])"
   ]
  },
  {
   "cell_type": "code",
   "execution_count": null,
   "metadata": {},
   "outputs": [],
   "source": [
    "# indices_palavras_frequentes1 = vetor_tfidf.toarray().argsort()[0][-5:][::-1]\n",
    "# palavras_frequentes1 = [vetorizador.get_feature_names()[i] for i in indices_palavras_frequentes1]"
   ]
  },
  {
   "cell_type": "code",
   "execution_count": null,
   "metadata": {},
   "outputs": [],
   "source": [
    "# print(palavras_frequentes1)"
   ]
  },
  {
   "attachments": {},
   "cell_type": "markdown",
   "metadata": {},
   "source": [
    "## Processamento do Diário Teste"
   ]
  },
  {
   "cell_type": "code",
   "execution_count": null,
   "metadata": {},
   "outputs": [],
   "source": [
    "with open(\"gazettes/2927408_20230704_0.txt\") as file_teste:\n",
    "    texto_teste = file_teste.read().replace(\"\\n\", \"\")"
   ]
  },
  {
   "cell_type": "code",
   "execution_count": null,
   "metadata": {},
   "outputs": [],
   "source": [
    "tokens_ = pp.process_text(texto_teste)\n",
    "print(tokens_)"
   ]
  },
  {
   "cell_type": "code",
   "execution_count": null,
   "metadata": {},
   "outputs": [],
   "source": [
    "texto = ' '.join(tokens_)\n",
    "vetorizador = TfidfVectorizer()"
   ]
  },
  {
   "cell_type": "code",
   "execution_count": null,
   "metadata": {},
   "outputs": [],
   "source": [
    "print(texto)"
   ]
  },
  {
   "cell_type": "code",
   "execution_count": null,
   "metadata": {},
   "outputs": [],
   "source": [
    "vetor_tfidf = vetorizador.fit_transform([texto])"
   ]
  },
  {
   "cell_type": "code",
   "execution_count": null,
   "metadata": {},
   "outputs": [],
   "source": [
    "#ordeno os indices do vetor tfidf e pego os 10 maiores, 0 seria a unica linha que tenho, 50 mais relevantes, -1 para inverter a ordem\n",
    "indices_palavras_frequentes = vetor_tfidf.toarray().argsort()[0][-90:][::-1]\n",
    "palavras_frequentes = [vetorizador.get_feature_names()[i] for i in indices_palavras_frequentes]"
   ]
  },
  {
   "cell_type": "code",
   "execution_count": null,
   "metadata": {},
   "outputs": [],
   "source": [
    "print(indices_palavras_frequentes)"
   ]
  },
  {
   "cell_type": "code",
   "execution_count": null,
   "metadata": {},
   "outputs": [],
   "source": [
    "print(palavras_frequentes)"
   ]
  },
  {
   "cell_type": "code",
   "execution_count": null,
   "metadata": {},
   "outputs": [],
   "source": [
    "pe.plot_embeddings(palavras_frequentes)"
   ]
  }
 ],
 "metadata": {
  "kernelspec": {
   "display_name": "nlp_licitacoes",
   "language": "python",
   "name": "python3"
  },
  "language_info": {
   "codemirror_mode": {
    "name": "ipython",
    "version": 3
   },
   "file_extension": ".py",
   "mimetype": "text/x-python",
   "name": "python",
   "nbconvert_exporter": "python",
   "pygments_lexer": "ipython3",
   "version": "3.9.13"
  },
  "orig_nbformat": 4
 },
 "nbformat": 4,
 "nbformat_minor": 2
}
